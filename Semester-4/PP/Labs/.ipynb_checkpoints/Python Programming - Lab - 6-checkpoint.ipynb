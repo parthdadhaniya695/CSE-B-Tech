{
 "cells": [
  {
   "attachments": {},
   "cell_type": "markdown",
   "metadata": {},
   "source": [
    "<a href='https://www.darshan.ac.in/'> <img src='https://www.darshan.ac.in/Content/media/DU_Logo.svg' width=\"250\" height=\"300\"/></a>\n",
    "<pre>\n",
    "<center><b><h1>Python Programming - 2301CS404</b></center>\n",
    "<center><b><h1>Lab - 6</b></center>\n",
    "<center><b><h1>Dadhaniya Parth</b></center>\n",
    "<center><b><h1>24010101621</b></center>\n",
    "<pre>"
   ]
  },
  {
   "cell_type": "markdown",
   "metadata": {},
   "source": [
    "# Tuple"
   ]
  },
  {
   "cell_type": "markdown",
   "metadata": {},
   "source": [
    "### 01) WAP to find sum of tuple elements."
   ]
  },
  {
   "cell_type": "code",
   "execution_count": 2,
   "metadata": {},
   "outputs": [
    {
     "name": "stdout",
     "output_type": "stream",
     "text": [
      "21\n"
     ]
    }
   ],
   "source": [
    "t1 = (1,2,3,4,5,6)\n",
    "sum = 0\n",
    "for i in t1:\n",
    "    sum += i\n",
    "print(sum)"
   ]
  },
  {
   "cell_type": "markdown",
   "metadata": {},
   "source": [
    "### 02) WAP to find Maximum and Minimum K elements in a given tuple."
   ]
  },
  {
   "cell_type": "code",
   "execution_count": 3,
   "metadata": {},
   "outputs": [
    {
     "name": "stdout",
     "output_type": "stream",
     "text": [
      "Maximum is: 99\n",
      "Minimum is: 23\n"
     ]
    }
   ],
   "source": [
    "t2 = (99,87,23,41,56)\n",
    "max = max(t2)\n",
    "min = min(t2)\n",
    "print(\"Maximum is:\",max)\n",
    "print(\"Minimum is:\",min)"
   ]
  },
  {
   "cell_type": "markdown",
   "metadata": {},
   "source": [
    "### 03) WAP to find tuples which have all elements divisible by K from a list of tuples."
   ]
  },
  {
   "cell_type": "code",
   "execution_count": 12,
   "metadata": {},
   "outputs": [
    {
     "name": "stdin",
     "output_type": "stream",
     "text": [
      "Enter Key: 5\n"
     ]
    },
    {
     "name": "stdout",
     "output_type": "stream",
     "text": [
      "[(10, 20, 30)]\n"
     ]
    }
   ],
   "source": [
    "data = [(6, 12, 18), (4, 9, 15), (10, 20, 30), (8, 16, 24)]\n",
    "\n",
    "K = int(input(\"Enter Key:\"))\n",
    "\n",
    "result = []\n",
    "\n",
    "for tup in data:  \n",
    "    for elem in tup:\n",
    "        if elem % K != 0: \n",
    "            break\n",
    "    else:  \n",
    "        result.append(tup)\n",
    "\n",
    "print(result)"
   ]
  },
  {
   "cell_type": "markdown",
   "metadata": {},
   "source": [
    "### 04) WAP to create a list of tuples from given list having number and its cube in each tuple."
   ]
  },
  {
   "cell_type": "code",
   "execution_count": 13,
   "metadata": {},
   "outputs": [
    {
     "name": "stdout",
     "output_type": "stream",
     "text": [
      "[(1, 1), (2, 8), (3, 27), (4, 64), (5, 125)]\n"
     ]
    }
   ],
   "source": [
    "numbers = [1, 2, 3, 4, 5]\n",
    "\n",
    "result = [(n, n**3) for n in numbers]\n",
    "\n",
    "print(result)"
   ]
  },
  {
   "cell_type": "markdown",
   "metadata": {},
   "source": [
    "### 05) WAP to find tuples with all positive elements from the given list of tuples."
   ]
  },
  {
   "cell_type": "code",
   "execution_count": 14,
   "metadata": {},
   "outputs": [
    {
     "name": "stdout",
     "output_type": "stream",
     "text": [
      "[(1, 2, 3), (4, 5, 6)]\n"
     ]
    }
   ],
   "source": [
    "tuples_list = [(1, 2, 3), (-1, 2, 3), (4, 5, 6), (0, 7, 8)]\n",
    "\n",
    "result = [t for t in tuples_list if all(x > 0 for x in t)]\n",
    "\n",
    "print(result)"
   ]
  },
  {
   "cell_type": "markdown",
   "metadata": {},
   "source": [
    "### 06) WAP to add tuple to list and vice – versa."
   ]
  },
  {
   "cell_type": "code",
   "execution_count": 17,
   "metadata": {},
   "outputs": [
    {
     "name": "stdout",
     "output_type": "stream",
     "text": [
      "[1, 2, 3, 4, 5]\n",
      "(4, 5, 1, 2, 3)\n"
     ]
    }
   ],
   "source": [
    "my_list = [1, 2, 3]\n",
    "my_tuple = (4, 5)\n",
    "\n",
    "result_list = my_list + list(my_tuple)\n",
    "\n",
    "result_tuple = my_tuple + tuple(my_list)\n",
    "\n",
    "print(result_list)\n",
    "print(result_tuple)"
   ]
  },
  {
   "cell_type": "markdown",
   "metadata": {},
   "source": [
    "### 07) WAP to remove tuples of length K."
   ]
  },
  {
   "cell_type": "code",
   "execution_count": 20,
   "metadata": {},
   "outputs": [
    {
     "name": "stdin",
     "output_type": "stream",
     "text": [
      "Enter key: 2\n"
     ]
    },
    {
     "name": "stdout",
     "output_type": "stream",
     "text": [
      "[(1, 2, 3), (-1, 2, 3), (4, 5, 6)]\n"
     ]
    }
   ],
   "source": [
    "tuples_list = [(1, 2, 3), (-1, 2, 3), (4, 5, 6), (7, 8)]\n",
    "\n",
    "k=int(input(\"Enter key:\"))\n",
    "\n",
    "result = [t for t in tuples_list if len(t)!=k]\n",
    "\n",
    "print(result)"
   ]
  },
  {
   "cell_type": "markdown",
   "metadata": {},
   "source": [
    "### 08) WAP to remove duplicates from tuple."
   ]
  },
  {
   "cell_type": "code",
   "execution_count": 21,
   "metadata": {},
   "outputs": [
    {
     "name": "stdout",
     "output_type": "stream",
     "text": [
      "Result is: (1, 12, 14)\n"
     ]
    }
   ],
   "source": [
    "t1 = (12,1,1,12,14)\n",
    "s = set(t1)\n",
    "t = tuple(s)\n",
    "print(\"Result is:\",t)"
   ]
  },
  {
   "cell_type": "markdown",
   "metadata": {},
   "source": [
    "### 09) WAP to multiply adjacent elements of a tuple and print that resultant tuple."
   ]
  },
  {
   "cell_type": "code",
   "execution_count": 23,
   "metadata": {},
   "outputs": [
    {
     "name": "stdout",
     "output_type": "stream",
     "text": [
      "(2, 6, 12, 20)\n"
     ]
    }
   ],
   "source": [
    "my_tuple = (1, 2, 3, 4, 5)\n",
    "result = []\n",
    "\n",
    "for i in range(len(my_tuple) - 1):\n",
    "    result.append(my_tuple[i] * my_tuple[i + 1])\n",
    "\n",
    "result_tuple = tuple(result)\n",
    "\n",
    "print(result_tuple)"
   ]
  },
  {
   "cell_type": "markdown",
   "metadata": {},
   "source": [
    "### 10) WAP to test if the given tuple is distinct or not."
   ]
  },
  {
   "cell_type": "code",
   "execution_count": 27,
   "metadata": {},
   "outputs": [
    {
     "name": "stdout",
     "output_type": "stream",
     "text": [
      "Tuple is Distinct\n"
     ]
    }
   ],
   "source": [
    "t1 = (1,2,3,4,5,6)\n",
    "l_t = len(t1)\n",
    "s = set(t1)\n",
    "l_s = len(s)\n",
    "if l_t == l_s:\n",
    "    print(\"Tuple is Distinct\")\n",
    "else:\n",
    "    print(\"Tuple is not Distinct\")"
   ]
  }
 ],
 "metadata": {
  "kernelspec": {
   "display_name": "Python 3 (ipykernel)",
   "language": "python",
   "name": "python3"
  },
  "language_info": {
   "codemirror_mode": {
    "name": "ipython",
    "version": 3
   },
   "file_extension": ".py",
   "mimetype": "text/x-python",
   "name": "python",
   "nbconvert_exporter": "python",
   "pygments_lexer": "ipython3",
   "version": "3.12.7"
  }
 },
 "nbformat": 4,
 "nbformat_minor": 4
}
