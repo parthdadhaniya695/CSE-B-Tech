{
 "cells": [
  {
   "cell_type": "markdown",
   "metadata": {},
   "source": [
    "<a href='https://www.darshan.ac.in/'> <img src='https://www.darshan.ac.in/Content/media/DU_Logo.svg' width=\"250\" height=\"300\"/></a>\n",
    "<pre>\n",
    "<center><b><h1>Python Programming - 2301CS404</b></center>\n",
    "<center><b><h1>Lab - 13</b></center>\n",
    "<center><b><h1>Dadhaniya Parth</b></center>\n",
    "<center><b><h1>24010101621</b></center>\n",
    "<pre>"
   ]
  },
  {
   "cell_type": "markdown",
   "metadata": {},
   "source": [
    "## Continued.."
   ]
  },
  {
   "cell_type": "markdown",
   "metadata": {},
   "source": [
    "### 10) Calculate area of a ractangle using object as an argument to a method."
   ]
  },
  {
   "cell_type": "code",
   "execution_count": 1,
   "metadata": {},
   "outputs": [
    {
     "name": "stdout",
     "output_type": "stream",
     "text": [
      "Area: 50\n"
     ]
    }
   ],
   "source": [
    "class Rectangle:\n",
    "    def __init__(self, length, width):\n",
    "        self.length = length\n",
    "        self.width = width\n",
    "\n",
    "    def area(self):\n",
    "        return self.length * self.width\n",
    "\n",
    "def calculate_area(rect):\n",
    "    return rect.area()\n",
    "\n",
    "rect1 = Rectangle(10, 5)\n",
    "print(\"Area:\", calculate_area(rect1))"
   ]
  },
  {
   "cell_type": "markdown",
   "metadata": {},
   "source": [
    "### 11) Calculate the area of a square. \n",
    "### Include a Constructor, a method to calculate area named area() and a method named output() that prints the output and is invoked by area()."
   ]
  },
  {
   "cell_type": "code",
   "execution_count": 2,
   "metadata": {},
   "outputs": [
    {
     "name": "stdout",
     "output_type": "stream",
     "text": [
      "Area of Square: 16\n"
     ]
    }
   ],
   "source": [
    "class Square:\n",
    "    def __init__(self, side):\n",
    "        self.side = side\n",
    "\n",
    "    def area(self):\n",
    "        return self.output(self.side * self.side)\n",
    "\n",
    "    def output(self, area):\n",
    "        print(f\"Area of Square: {area}\")\n",
    "\n",
    "square1 = Square(4)\n",
    "square1.area()"
   ]
  },
  {
   "cell_type": "markdown",
   "metadata": {},
   "source": [
    "### 12) Calculate the area of a rectangle. \n",
    "### Include a Constructor, a method to calculate area named area() and a method named output() that prints the output and is invoked by area().\n",
    "### Also define a class method that compares the two sides of reactangle. An object is instantiated only if the two sides are different; otherwise a message should be displayed : THIS IS SQUARE."
   ]
  },
  {
   "cell_type": "code",
   "execution_count": 3,
   "metadata": {},
   "outputs": [
    {
     "name": "stdout",
     "output_type": "stream",
     "text": [
      "Area of Rectangle: 50\n",
      "THIS IS SQUARE.\n"
     ]
    }
   ],
   "source": [
    "class Rectangle:\n",
    "    def __init__(self, length, width):\n",
    "        if length == width:\n",
    "            print(\"THIS IS SQUARE.\")\n",
    "        else:\n",
    "            self.length = length\n",
    "            self.width = width\n",
    "\n",
    "    def area(self):\n",
    "        return self.output(self.length * self.width)\n",
    "\n",
    "    def output(self, area):\n",
    "        print(f\"Area of Rectangle: {area}\")\n",
    "\n",
    "    @classmethod\n",
    "    def compare_sides(cls, length, width):\n",
    "        if length == width:\n",
    "            print(\"THIS IS SQUARE.\")\n",
    "        else:\n",
    "            return cls(length, width)\n",
    "\n",
    "rect1 = Rectangle.compare_sides(10, 5)\n",
    "if rect1:\n",
    "    rect1.area()\n",
    "\n",
    "rect2 = Rectangle.compare_sides(6, 6)"
   ]
  },
  {
   "cell_type": "markdown",
   "metadata": {},
   "source": [
    "### 13) Define a class Square having a private attribute \"side\". \n",
    "### Implement get_side and set_side methods to accees the private attribute from outside of the class."
   ]
  },
  {
   "cell_type": "code",
   "execution_count": 7,
   "metadata": {},
   "outputs": [
    {
     "name": "stdout",
     "output_type": "stream",
     "text": [
      "Side: 4\n",
      "Updated Side: 6\n"
     ]
    }
   ],
   "source": [
    "class Square:\n",
    "    def __init__(self, side):\n",
    "        self.__side = side\n",
    "\n",
    "    def get_side(self):\n",
    "        return self.__side\n",
    "\n",
    "    def set_side(self, side):\n",
    "        self.__side = side\n",
    "\n",
    "square1 = Square(4)\n",
    "print(\"Side:\", square1.get_side())\n",
    "square1.set_side(6)\n",
    "print(\"Updated Side:\", square1.get_side())"
   ]
  },
  {
   "cell_type": "markdown",
   "metadata": {},
   "source": [
    "### 14) Create a class Profit that has a method named getProfit that accepts profit from the user.\n",
    "### Create a class Loss that has a method named getLoss that accepts loss from the user.\n",
    "### Create a class BalanceSheet that inherits from both classes Profit and Loss and calculates the balanace. It has two methods getBalance() and printBalance()."
   ]
  },
  {
   "cell_type": "code",
   "execution_count": 8,
   "metadata": {},
   "outputs": [
    {
     "name": "stdin",
     "output_type": "stream",
     "text": [
      "Enter Profit:  2000\n",
      "Enter Loss:  1000\n"
     ]
    },
    {
     "name": "stdout",
     "output_type": "stream",
     "text": [
      "Balance: 1000.0\n"
     ]
    }
   ],
   "source": [
    "class Profit:\n",
    "    def getProfit(self):\n",
    "        self.profit = float(input(\"Enter Profit: \"))\n",
    "\n",
    "class Loss:\n",
    "    def getLoss(self):\n",
    "        self.loss = float(input(\"Enter Loss: \"))\n",
    "\n",
    "class BalanceSheet(Profit, Loss):\n",
    "    def getBalance(self):\n",
    "        self.balance = self.profit - self.loss\n",
    "\n",
    "    def printBalance(self):\n",
    "        print(f\"Balance: {self.balance}\")\n",
    "\n",
    "bs = BalanceSheet()\n",
    "bs.getProfit()\n",
    "bs.getLoss()\n",
    "bs.getBalance()\n",
    "bs.printBalance()"
   ]
  },
  {
   "attachments": {},
   "cell_type": "markdown",
   "metadata": {},
   "source": [
    "### 15) WAP to demonstrate all types of inheritance."
   ]
  },
  {
   "cell_type": "code",
   "execution_count": 10,
   "metadata": {},
   "outputs": [
    {
     "name": "stdout",
     "output_type": "stream",
     "text": [
      "Animal makes a sound\n",
      "Dog barks\n",
      "Function from Father\n",
      "Function from Mother\n",
      "Function from Child\n",
      "Function from Grandfather\n",
      "Function from Father\n",
      "Function from Son\n",
      "Function from Parent\n",
      "Function from Son\n",
      "Function from Parent\n",
      "Function from Daughter\n",
      "Function from Person\n",
      "Function from Employee\n",
      "Function from Manager\n",
      "Function from CEO\n"
     ]
    }
   ],
   "source": [
    "# Single Inheritance\n",
    "class Animal:\n",
    "    def sound(self):\n",
    "        print(\"Animal makes a sound\")\n",
    "\n",
    "class Dog(Animal):\n",
    "    def bark(self):\n",
    "        print(\"Dog barks\")\n",
    "\n",
    "dog = Dog()\n",
    "dog.sound()\n",
    "dog.bark()\n",
    "\n",
    "# Multiple Inheritance\n",
    "class Father:\n",
    "    def func1(self):\n",
    "        print(\"Function from Father\")\n",
    "\n",
    "class Mother:\n",
    "    def func2(self):\n",
    "        print(\"Function from Mother\")\n",
    "\n",
    "class Child(Father, Mother):\n",
    "    def func3(self):\n",
    "        print(\"Function from Child\")\n",
    "\n",
    "child = Child()\n",
    "child.func1()\n",
    "child.func2()\n",
    "child.func3()\n",
    "\n",
    "# Multilevel Inheritance\n",
    "class Grandfather:\n",
    "    def grandparent_func(self):\n",
    "        print(\"Function from Grandfather\")\n",
    "\n",
    "class Father(Grandfather):\n",
    "    def parent_func(self):\n",
    "        print(\"Function from Father\")\n",
    "\n",
    "class Son(Father):\n",
    "    def child_func(self):\n",
    "        print(\"Function from Son\")\n",
    "\n",
    "son = Son()\n",
    "son.grandparent_func()\n",
    "son.parent_func()\n",
    "son.child_func()\n",
    "\n",
    "# Hierarchical Inheritance\n",
    "class Parent:\n",
    "    def parent_func(self):\n",
    "        print(\"Function from Parent\")\n",
    "\n",
    "class Son(Parent):\n",
    "    def son_func(self):\n",
    "        print(\"Function from Son\")\n",
    "\n",
    "class Daughter(Parent):\n",
    "    def daughter_func(self):\n",
    "        print(\"Function from Daughter\")\n",
    "\n",
    "son = Son()\n",
    "daughter = Daughter()\n",
    "son.parent_func()\n",
    "son.son_func()\n",
    "daughter.parent_func()\n",
    "daughter.daughter_func()\n",
    "\n",
    "# Hybrid Inheritance\n",
    "class Person:\n",
    "    def person_func(self):\n",
    "        print(\"Function from Person\")\n",
    "\n",
    "class Employee(Person):\n",
    "    def employee_func(self):\n",
    "        print(\"Function from Employee\")\n",
    "\n",
    "class Manager(Person):\n",
    "    def manager_func(self):\n",
    "        print(\"Function from Manager\")\n",
    "\n",
    "class CEO(Employee, Manager):\n",
    "    def ceo_func(self):\n",
    "        print(\"Function from CEO\")\n",
    "\n",
    "ceo = CEO()\n",
    "ceo.person_func()\n",
    "ceo.employee_func()\n",
    "ceo.manager_func()\n",
    "ceo.ceo_func()"
   ]
  },
  {
   "cell_type": "markdown",
   "metadata": {},
   "source": [
    "### 16) Create a Person class with a constructor that takes two arguments name and age. \n",
    "### Create a child class Employee that inherits from Person and adds a new attribute salary. \n",
    "### Override the __init__ method in Employee to call the parent class's __init__ method using the super() and then initialize the salary attribute."
   ]
  },
  {
   "cell_type": "code",
   "execution_count": 11,
   "metadata": {},
   "outputs": [
    {
     "name": "stdout",
     "output_type": "stream",
     "text": [
      "Name: John, Age: 30, Salary: 50000\n"
     ]
    }
   ],
   "source": [
    "class Person:\n",
    "    def __init__(self, name, age):\n",
    "        self.name = name\n",
    "        self.age = age\n",
    "\n",
    "class Employee(Person):\n",
    "    def __init__(self, name, age, salary):\n",
    "        super().__init__(name, age)\n",
    "        self.salary = salary\n",
    "\n",
    "    def display(self):\n",
    "        print(f\"Name: {self.name}, Age: {self.age}, Salary: {self.salary}\")\n",
    "\n",
    "emp = Employee(\"John\", 30, 50000)\n",
    "emp.display()"
   ]
  },
  {
   "cell_type": "markdown",
   "metadata": {},
   "source": [
    "### 17) Create a Shape class with a draw method that is not implemented. \n",
    "### Create three child classes Rectangle, Circle, and Triangle that implement the draw method with their respective drawing behaviors. \n",
    "### Create a list of Shape objects that includes one instance of each child class, and then iterate through the list and call the draw method on each object."
   ]
  },
  {
   "cell_type": "code",
   "execution_count": 12,
   "metadata": {},
   "outputs": [
    {
     "name": "stdout",
     "output_type": "stream",
     "text": [
      "Drawing a Rectangle\n",
      "Drawing a Circle\n",
      "Drawing a Triangle\n"
     ]
    }
   ],
   "source": [
    "from abc import ABC, abstractmethod\n",
    "\n",
    "class Shape(ABC):\n",
    "    @abstractmethod\n",
    "    def draw(self):\n",
    "        pass\n",
    "\n",
    "class Rectangle(Shape):\n",
    "    def draw(self):\n",
    "        print(\"Drawing a Rectangle\")\n",
    "\n",
    "class Circle(Shape):\n",
    "    def draw(self):\n",
    "        print(\"Drawing a Circle\")\n",
    "\n",
    "class Triangle(Shape):\n",
    "    def draw(self):\n",
    "        print(\"Drawing a Triangle\")\n",
    "\n",
    "shapes = [Rectangle(), Circle(), Triangle()]\n",
    "\n",
    "for shape in shapes:\n",
    "    shape.draw()"
   ]
  }
 ],
 "metadata": {
  "kernelspec": {
   "display_name": "Python 3 (ipykernel)",
   "language": "python",
   "name": "python3"
  },
  "language_info": {
   "codemirror_mode": {
    "name": "ipython",
    "version": 3
   },
   "file_extension": ".py",
   "mimetype": "text/x-python",
   "name": "python",
   "nbconvert_exporter": "python",
   "pygments_lexer": "ipython3",
   "version": "3.12.7"
  }
 },
 "nbformat": 4,
 "nbformat_minor": 4
}
