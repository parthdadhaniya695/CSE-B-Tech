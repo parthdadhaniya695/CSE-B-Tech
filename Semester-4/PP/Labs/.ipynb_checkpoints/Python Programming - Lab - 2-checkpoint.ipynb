{
 "cells": [
  {
   "cell_type": "markdown",
   "metadata": {},
   "source": [
    "\n",
    "<a href='https://www.darshan.ac.in/'> <img src='https://www.darshan.ac.in/Content/media/DU_Logo.svg' width=\"250\" height=\"300\"/></a>\n",
    "<pre>\n",
    "<center><b><h1>Python Programming - 2301CS404</b></center>\n",
    "<center><b><h1>Lab - 2</b></center>\n",
    "<center><b><h1>Dadhaniya Parth</b></center>\n",
    "<center><b><h1>24010101621</b></center>\n",
    "<pre>"
   ]
  },
  {
   "cell_type": "markdown",
   "metadata": {},
   "source": [
    "# if..else.."
   ]
  },
  {
   "cell_type": "markdown",
   "metadata": {},
   "source": [
    "### 01) WAP to check whether the given number is positive or negative."
   ]
  },
  {
   "cell_type": "code",
   "execution_count": 1,
   "metadata": {},
   "outputs": [
    {
     "name": "stdin",
     "output_type": "stream",
     "text": [
      "Enter number: 8\n"
     ]
    },
    {
     "name": "stdout",
     "output_type": "stream",
     "text": [
      "Number is positive\n"
     ]
    }
   ],
   "source": [
    "n = int(input(\"Enter number:\"))\n",
    "\n",
    "if(n>0):\n",
    "    print(\"Number is positive\")\n",
    "elif(n<0):\n",
    "    print(\"Number is negative\")\n",
    "else:\n",
    "    print(\"Number is Zero\")"
   ]
  },
  {
   "cell_type": "markdown",
   "metadata": {},
   "source": [
    "### 02) WAP to check whether the given number is odd or even."
   ]
  },
  {
   "cell_type": "code",
   "execution_count": 8,
   "metadata": {},
   "outputs": [
    {
     "name": "stdin",
     "output_type": "stream",
     "text": [
      "Enter number: 5\n"
     ]
    },
    {
     "name": "stdout",
     "output_type": "stream",
     "text": [
      "Number is Odd\n"
     ]
    }
   ],
   "source": [
    "n = int(input(\"Enter number:\"))\n",
    "\n",
    "if(n%2==0):\n",
    "    print(\"Number is Even\")\n",
    "else:\n",
    "    print(\"Number is Odd\")"
   ]
  },
  {
   "cell_type": "markdown",
   "metadata": {},
   "source": [
    "### 03) WAP to find out largest number from given two numbers using simple if and ternary operator."
   ]
  },
  {
   "cell_type": "code",
   "execution_count": 11,
   "metadata": {},
   "outputs": [
    {
     "name": "stdin",
     "output_type": "stream",
     "text": [
      "Enter 1st Number: 20\n",
      "Enter 2nd Number: 15\n"
     ]
    },
    {
     "name": "stdout",
     "output_type": "stream",
     "text": [
      "20 is Largest Number\n"
     ]
    }
   ],
   "source": [
    "# using simple if\n",
    "\n",
    "n1 = int(input(\"Enter 1st Number:\"))\n",
    "n2 = int(input(\"Enter 2nd Number:\"))\n",
    "\n",
    "if(n1>n2):\n",
    "    print(f\"{n1} is Largest Number\")\n",
    "else:\n",
    "    print(f\"{n2} is Largest Number\")"
   ]
  },
  {
   "cell_type": "code",
   "execution_count": 12,
   "metadata": {},
   "outputs": [
    {
     "name": "stdin",
     "output_type": "stream",
     "text": [
      "Enter 1st Number: 27\n",
      "Enter 2nd Number: 15\n"
     ]
    },
    {
     "name": "stdout",
     "output_type": "stream",
     "text": [
      "27 is Largest Number\n"
     ]
    }
   ],
   "source": [
    "#using ternary operator\n",
    "\n",
    "n1 = int(input(\"Enter 1st Number:\"))\n",
    "n2 = int(input(\"Enter 2nd Number:\"))\n",
    "\n",
    "large = f\"{n1} is Largest Number\" if(n1>n2) else f\"{n2} is Largest Number\"\n",
    "print(large)"
   ]
  },
  {
   "cell_type": "markdown",
   "metadata": {},
   "source": [
    "### 04) WAP to find out largest number from given three numbers."
   ]
  },
  {
   "cell_type": "code",
   "execution_count": 15,
   "metadata": {},
   "outputs": [
    {
     "name": "stdin",
     "output_type": "stream",
     "text": [
      "Enter 1st Number: 12\n",
      "Enter 2nd Number: 45\n",
      "Enter 3rd Number: 32\n"
     ]
    },
    {
     "name": "stdout",
     "output_type": "stream",
     "text": [
      "The largest number is: 45\n"
     ]
    }
   ],
   "source": [
    "n1 = int(input(\"Enter 1st Number:\"))\n",
    "n2 = int(input(\"Enter 2nd Number:\"))\n",
    "n3 = int(input(\"Enter 3rd Number:\"))\n",
    "\n",
    "largest = n1 if (n1 > n2 and n1 > n3) else (n2 if n2 > n3 else n3)\n",
    "\n",
    "print(f\"The largest number is: {largest}\")"
   ]
  },
  {
   "cell_type": "markdown",
   "metadata": {},
   "source": [
    "### 05) WAP to check whether the given year is leap year or not.\n",
    "[If a year can be divisible by 4 but not divisible by 100 then it is leap year but if it is divisible by 400 then it is leap year]"
   ]
  },
  {
   "cell_type": "code",
   "execution_count": 3,
   "metadata": {},
   "outputs": [
    {
     "name": "stdin",
     "output_type": "stream",
     "text": [
      "Enter Year: 2024\n"
     ]
    },
    {
     "name": "stdout",
     "output_type": "stream",
     "text": [
      "2024 is Leap\n"
     ]
    }
   ],
   "source": [
    "year = int(input(\"Enter Year:\"))\n",
    "\n",
    "if((year%4==0 and year%100!=0) or (year%400==0)):\n",
    "    print(f\"{year} is Leap\")\n",
    "else:\n",
    "    print(f\"{year} is Not Leap\")"
   ]
  },
  {
   "cell_type": "markdown",
   "metadata": {},
   "source": [
    "### 06) WAP in python to display the name of the day according to the number given by the user."
   ]
  },
  {
   "cell_type": "code",
   "execution_count": 19,
   "metadata": {},
   "outputs": [
    {
     "name": "stdin",
     "output_type": "stream",
     "text": [
      "Enter Number between 1-7: 8\n"
     ]
    },
    {
     "name": "stdout",
     "output_type": "stream",
     "text": [
      "Invalid Input\n"
     ]
    }
   ],
   "source": [
    "day = int(input(\"Enter Number between 1-7:\"))\n",
    "\n",
    "match day:\n",
    "    case 1:\n",
    "        print(\"Sunday\")\n",
    "    case 2:\n",
    "        print(\"Monday\")\n",
    "    case 3:\n",
    "        print(\"Tuesday\")\n",
    "    case 4:\n",
    "        print(\"Wednesday\")\n",
    "    case 5:\n",
    "        print(\"Thrusday\")\n",
    "    case 6:\n",
    "        print(\"Friday\")\n",
    "    case 7:\n",
    "        print(\"Saturday\")\n",
    "    case _:\n",
    "        print(\"Invalid Input\")"
   ]
  },
  {
   "cell_type": "markdown",
   "metadata": {},
   "source": [
    "### 07) WAP to implement simple calculator which performs (add,sub,mul,div) of two no. based on user input."
   ]
  },
  {
   "cell_type": "code",
   "execution_count": 4,
   "metadata": {
    "scrolled": true
   },
   "outputs": [
    {
     "name": "stdin",
     "output_type": "stream",
     "text": [
      "Enter 1st Number:  12\n",
      "Enter 2nd Number: 12\n",
      "Enter +,-,* or /: +\n"
     ]
    },
    {
     "name": "stdout",
     "output_type": "stream",
     "text": [
      "12+12 = 24\n"
     ]
    }
   ],
   "source": [
    "n1 = int(input(\"Enter 1st Number: \"))\n",
    "n2 = int(input(\"Enter 2nd Number:\"))\n",
    "\n",
    "cal = input(\"Enter +,-,* or /:\")\n",
    "\n",
    "match cal:\n",
    "    case '+':\n",
    "        print(f\"{n1}+{n2} = {n1+n2}\")\n",
    "    case '-':\n",
    "        print(f\"{n1}-{n2} = {n1-n2}\")\n",
    "    case '*':\n",
    "        print(f\"{n1}*{n2} = {n1*n2}\")\n",
    "    case '/':\n",
    "        print(f\"{n1}/{n2} = {n1/n2}\")\n",
    "    case _:\n",
    "        print(\"Invalid Choice\")"
   ]
  },
  {
   "cell_type": "markdown",
   "metadata": {},
   "source": [
    "### 08) WAP to read marks of five subjects. Calculate percentage and print class accordingly. \n",
    "Fail below 35 </br>\n",
    "Pass Class between 35 to 45 </br>\n",
    "Second Class</br>\n",
    "between 45 to 60</br>\n",
    "First Class between 60 to 70</br> \n",
    "Distinction if more than 70"
   ]
  },
  {
   "cell_type": "code",
   "execution_count": 10,
   "metadata": {},
   "outputs": [
    {
     "name": "stdin",
     "output_type": "stream",
     "text": [
      "Enter 1st Subject Marks: 45\n",
      "Enter 2nd Subject Marks: 89\n",
      "Enter 3rd Subject Marks: 65\n",
      "Enter 4th Subject Marks: 98\n",
      "Enter 5th Subject Marks: 56\n"
     ]
    },
    {
     "name": "stdout",
     "output_type": "stream",
     "text": [
      "Total Marks: 353\n",
      "Percentage is: 70.60000000000001\n",
      "Distinction\n"
     ]
    }
   ],
   "source": [
    "s1 = int(input(\"Enter 1st Subject Marks:\"))\n",
    "s2 = int(input(\"Enter 2nd Subject Marks:\"))\n",
    "s3 = int(input(\"Enter 3rd Subject Marks:\"))\n",
    "s4 = int(input(\"Enter 4th Subject Marks:\"))\n",
    "s5 = int(input(\"Enter 5th Subject Marks:\"))\n",
    "total = s1+s2+s3+s4+s5\n",
    "print(\"Total Marks:\",total)\n",
    "percentage = float(total)*(100/500)\n",
    "print(\"Percentage is:\",percentage)\n",
    "if(percentage<35):\n",
    "    print(\"Fail\")\n",
    "elif(percentage>=35 and percentage<45):\n",
    "    print(\"Pass Class\")\n",
    "elif(percentage>=45 and percentage<60):\n",
    "    print(\"Second Class\")\n",
    "elif(percentage>=60 and percentage<70):\n",
    "    print(\"First Class\")\n",
    "else:\n",
    "    print(\"Distinction\")"
   ]
  },
  {
   "cell_type": "markdown",
   "metadata": {},
   "source": [
    "### 09) Three sides of a triangle are entered through the keyboard, WAP to check whether the triangle is isosceles, equilateral, scalene or right-angled triangle."
   ]
  },
  {
   "cell_type": "code",
   "execution_count": null,
   "metadata": {},
   "outputs": [],
   "source": [
    "side1 = float(input(\"Enter 1st Side:\"))\n",
    "side2 = float(input(\"Enter 2nd Side:\"))\n",
    "side3 = float(input(\"Enter 3rd Side:\"))\n",
    "\n",
    "if (side1==side2==side3):\n",
    "    print(\"Euilateral Triangle\")\n",
    "elif(side1==side2 or side1==side3 or side2==side3):\n",
    "    print(\"Isosceles Triangle\")\n",
    "else:\n",
    "    print(\"Scaler Triangle\")"
   ]
  },
  {
   "cell_type": "markdown",
   "metadata": {},
   "source": [
    "### 10) WAP to find the second largest number among three user input numbers."
   ]
  },
  {
   "cell_type": "code",
   "execution_count": 2,
   "metadata": {},
   "outputs": [
    {
     "name": "stdin",
     "output_type": "stream",
     "text": [
      "Enter 1st Number: 12\n",
      "Enter 2nd Number: 7\n",
      "Enter 3rd Number: 9\n"
     ]
    },
    {
     "name": "stdout",
     "output_type": "stream",
     "text": [
      "The second largest number is: 9\n"
     ]
    }
   ],
   "source": [
    "num1 = int(input(\"Enter 1st Number:\"))\n",
    "num2 = int(input(\"Enter 2nd Number:\"))\n",
    "num3 = int(input(\"Enter 3rd Number:\"))\n",
    "\n",
    "if (num1 > num2 and num1 < num3) or (num1 > num3 and num1 < num2):\n",
    "    second_largest = num1\n",
    "elif (num2 > num1 and num2 < num3) or (num2 > num3 and num2 < num1):\n",
    "    second_largest = num2\n",
    "else:\n",
    "    second_largest = num3\n",
    "\n",
    "print(\"The second largest number is:\", second_largest)"
   ]
  },
  {
   "cell_type": "markdown",
   "metadata": {},
   "source": [
    "### 11) WAP to calculate electricity bill based on following criteria. Which takes the unit from the user.\n",
    "a. First 1 to 50 units – Rs. 2.60/unit</br>\n",
    "b. Next 50 to 100 units – Rs. 3.25/unit</br>\n",
    "c. Next 100 to 200 units – Rs. 5.26/unit</br>\n",
    "d. above 200 units – Rs. 8.45/unit"
   ]
  },
  {
   "cell_type": "code",
   "execution_count": 3,
   "metadata": {},
   "outputs": [
    {
     "name": "stdin",
     "output_type": "stream",
     "text": [
      "Enter unit: 250\n"
     ]
    },
    {
     "name": "stdout",
     "output_type": "stream",
     "text": [
      "1241.0\n"
     ]
    }
   ],
   "source": [
    "unit=int(input(\"Enter unit:\"))\n",
    "if unit>=1 and unit<=50:\n",
    "\tprint(unit*2.60)\n",
    "elif unit>50 and unit<=100:\n",
    "\ta=50*2.60\n",
    "\tb=unit-50\n",
    "\tc=b*3.25\n",
    "\tprint(a+c)\n",
    "elif unit>100 and unit<=200:\n",
    "\ta=50*2.60\n",
    "\tb=50*3.25\n",
    "\tc=unit-100\n",
    "\td=c*5.26\n",
    "\tprint(a+b+d)\n",
    "elif unit>200:\n",
    "\ta=50*2.60\n",
    "\tb=50*3.25\n",
    "\tc=100*5.26\n",
    "\td=unit-200\n",
    "\te=d*8.45\n",
    "\tprint(a+b+c+e)\t"
   ]
  }
 ],
 "metadata": {
  "kernelspec": {
   "display_name": "Python 3 (ipykernel)",
   "language": "python",
   "name": "python3"
  },
  "language_info": {
   "codemirror_mode": {
    "name": "ipython",
    "version": 3
   },
   "file_extension": ".py",
   "mimetype": "text/x-python",
   "name": "python",
   "nbconvert_exporter": "python",
   "pygments_lexer": "ipython3",
   "version": "3.12.7"
  }
 },
 "nbformat": 4,
 "nbformat_minor": 4
}
