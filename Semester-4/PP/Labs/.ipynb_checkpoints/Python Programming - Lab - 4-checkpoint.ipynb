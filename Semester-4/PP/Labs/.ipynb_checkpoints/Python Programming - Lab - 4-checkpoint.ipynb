{
 "cells": [
  {
   "cell_type": "markdown",
   "metadata": {},
   "source": [
    "\n",
    "<a href='https://www.darshan.ac.in/'> <img src='https://www.darshan.ac.in/Content/media/DU_Logo.svg' width=\"250\" height=\"300\"/></a>\n",
    "<pre>\n",
    "<center><b><h1>Python Programming - 2301CS404</b></center>\n",
    "<center><b><h1>Lab - 4</b></center>\n",
    "<center><b><h1>Dadhaniya Parth</b></center>\n",
    "<center><b><h1>24010101621</b></center>\n",
    "<pre>"
   ]
  },
  {
   "cell_type": "markdown",
   "metadata": {},
   "source": [
    "# String"
   ]
  },
  {
   "cell_type": "markdown",
   "metadata": {},
   "source": [
    "### 01) WAP to check whether the given string is palindrome or not."
   ]
  },
  {
   "cell_type": "code",
   "execution_count": 3,
   "metadata": {},
   "outputs": [
    {
     "name": "stdin",
     "output_type": "stream",
     "text": [
      "Enter string here: aba\n"
     ]
    },
    {
     "name": "stdout",
     "output_type": "stream",
     "text": [
      "pallindrome\n"
     ]
    }
   ],
   "source": [
    "str1 = input(\"Enter string here:\")\n",
    "str2 = str1[::-1]\n",
    "if(str1 == str2):\n",
    "\tprint(\"pallindrome\")\n",
    "else:\n",
    "\tprint(\"not pallindrome\")"
   ]
  },
  {
   "cell_type": "markdown",
   "metadata": {},
   "source": [
    "### 02) WAP to reverse the words in the given string."
   ]
  },
  {
   "cell_type": "code",
   "execution_count": 7,
   "metadata": {},
   "outputs": [
    {
     "name": "stdin",
     "output_type": "stream",
     "text": [
      "Enter string here: Parth Patel\n"
     ]
    },
    {
     "name": "stdout",
     "output_type": "stream",
     "text": [
      "Patel Parth\n"
     ]
    }
   ],
   "source": [
    "str1 = input(\"Enter string here:\")\n",
    "words = str1.split()\n",
    "reverse_word = words[::-1]\n",
    "reverse_string = ' '.join(reverse_word)\n",
    "print(reverse_string)"
   ]
  },
  {
   "cell_type": "markdown",
   "metadata": {},
   "source": [
    "### 03) WAP to remove ith character from given string."
   ]
  },
  {
   "cell_type": "code",
   "execution_count": 10,
   "metadata": {},
   "outputs": [
    {
     "name": "stdin",
     "output_type": "stream",
     "text": [
      "Enter string here: kaya\n",
      "Enter index for remove a character: 1\n"
     ]
    },
    {
     "name": "stdout",
     "output_type": "stream",
     "text": [
      "kya\n"
     ]
    }
   ],
   "source": [
    "str1 = input(\"Enter string here:\")\n",
    "i = int(input(\"Enter index for remove a character:\"))\n",
    "str2 = str1[:i]+str1[i+1:]\n",
    "print(str2)"
   ]
  },
  {
   "cell_type": "markdown",
   "metadata": {},
   "source": [
    "### 04) WAP to find length of string without using len function."
   ]
  },
  {
   "cell_type": "code",
   "execution_count": 13,
   "metadata": {},
   "outputs": [
    {
     "name": "stdin",
     "output_type": "stream",
     "text": [
      "Enter string here: Parth Dadhaniya\n"
     ]
    },
    {
     "name": "stdout",
     "output_type": "stream",
     "text": [
      "15\n"
     ]
    }
   ],
   "source": [
    "str1 = input(\"Enter string here:\")\n",
    "length = 0\n",
    "for i in str1:\n",
    "    length += 1\n",
    "print(length)"
   ]
  },
  {
   "cell_type": "markdown",
   "metadata": {},
   "source": [
    "### 05) WAP to print even length word in string."
   ]
  },
  {
   "cell_type": "code",
   "execution_count": 15,
   "metadata": {},
   "outputs": [
    {
     "name": "stdin",
     "output_type": "stream",
     "text": [
      "Enter string here: Parth Dadhaniya once\n"
     ]
    },
    {
     "name": "stdout",
     "output_type": "stream",
     "text": [
      "['Parth', 'Dadhaniya', 'once']\n",
      "once\n"
     ]
    }
   ],
   "source": [
    "str1 = input(\"Enter string here:\")\n",
    "str2 = str1.split(' ')\n",
    "print(str2)\n",
    "for i in str2:\n",
    "    if len(i) % 2 == 0:\n",
    "        print(i)"
   ]
  },
  {
   "cell_type": "markdown",
   "metadata": {},
   "source": [
    "### 06) WAP to count numbers of vowels in given string."
   ]
  },
  {
   "cell_type": "code",
   "execution_count": 16,
   "metadata": {},
   "outputs": [
    {
     "name": "stdin",
     "output_type": "stream",
     "text": [
      "Enter string here: Parth\n"
     ]
    },
    {
     "name": "stdout",
     "output_type": "stream",
     "text": [
      "1\n"
     ]
    }
   ],
   "source": [
    "str1 = input(\"Enter string here:\")\n",
    "count = 0\n",
    "vowels = \"aeiouAEIOU\"\n",
    "for i in str1:\n",
    "    if i in vowels:\n",
    "        count += 1\n",
    "print(count)"
   ]
  },
  {
   "cell_type": "markdown",
   "metadata": {},
   "source": [
    "### 07) WAP to capitalize the first and last character of each word in a string."
   ]
  },
  {
   "cell_type": "code",
   "execution_count": 17,
   "metadata": {},
   "outputs": [
    {
     "name": "stdin",
     "output_type": "stream",
     "text": [
      "Enter string here: parth dadhaniya\n"
     ]
    },
    {
     "name": "stdout",
     "output_type": "stream",
     "text": [
      "PartH DadhaniyA\n"
     ]
    }
   ],
   "source": [
    "str1 = input(\"Enter string here:\")\n",
    "words = str1.split()\n",
    "result = []\n",
    "\n",
    "for i in words:\n",
    "    if len(i) > 1:\n",
    "        i = i[0].upper() + i[1:-1] + i[-1].upper()\n",
    "    else:\n",
    "        i = i.upper()\n",
    "    result.append(i)\n",
    "\n",
    "cap = ' '.join(result)\n",
    "print(cap)"
   ]
  },
  {
   "cell_type": "markdown",
   "metadata": {},
   "source": [
    "### 08) WAP to convert given array to string."
   ]
  },
  {
   "cell_type": "code",
   "execution_count": 19,
   "metadata": {},
   "outputs": [
    {
     "name": "stdout",
     "output_type": "stream",
     "text": [
      "Array is: ['I', 'am', 'Parth', 'Student', 'of', 'B-tech']\n",
      "String is: I am Parth Student of B-tech\n"
     ]
    }
   ],
   "source": [
    "array = ['I','am','Parth','Student','of','B-tech']\n",
    "s = ' '.join(array)\n",
    "print(\"Array is:\",array)\n",
    "print(\"String is:\",s)"
   ]
  },
  {
   "cell_type": "markdown",
   "metadata": {},
   "source": [
    "### 09) Check if the password and confirm password is same or not. \n",
    "### In case of only case's mistake, show the error message."
   ]
  },
  {
   "cell_type": "code",
   "execution_count": 22,
   "metadata": {},
   "outputs": [
    {
     "name": "stdin",
     "output_type": "stream",
     "text": [
      "Enter Password: Parth\n",
      "Reenter Password: parth\n"
     ]
    },
    {
     "name": "stdout",
     "output_type": "stream",
     "text": [
      "Password do not match. This issue seems to be sensitivity\n"
     ]
    }
   ],
   "source": [
    "password = input(\"Enter Password:\")\n",
    "conpassword = input(\"Reenter Password:\")\n",
    "if password == conpassword:\n",
    "    print(\"Password Matched\")\n",
    "elif password.lower() == conpassword:\n",
    "    print(\"Password do not match. This issue seems to be sensitivity\")\n",
    "else:\n",
    "    print(\"Password do not match\")"
   ]
  },
  {
   "cell_type": "markdown",
   "metadata": {},
   "source": [
    "### 10) : Display credit card number. \n",
    "### card no. : 1234 5678 9012 3456\n",
    "### display as  : **** **** **** 3456"
   ]
  },
  {
   "cell_type": "code",
   "execution_count": 23,
   "metadata": {},
   "outputs": [
    {
     "name": "stdin",
     "output_type": "stream",
     "text": [
      "Enter credit card number: 1456 7869 4356 1611\n"
     ]
    },
    {
     "name": "stdout",
     "output_type": "stream",
     "text": [
      "Updated Number is: **** **** **** 1611\n"
     ]
    }
   ],
   "source": [
    "cno = input(\"Enter credit card number:\")\n",
    "result = '**** **** **** ' + cno[-4:]\n",
    "print(\"Updated Number is:\",result)"
   ]
  },
  {
   "cell_type": "markdown",
   "metadata": {},
   "source": [
    "### 11) : Checking if the two strings are Anagram or not.\n",
    "### s1 = decimal and s2 = medical are Anagram"
   ]
  },
  {
   "cell_type": "code",
   "execution_count": 28,
   "metadata": {},
   "outputs": [
    {
     "name": "stdin",
     "output_type": "stream",
     "text": [
      "Enter 1st word: decimal\n",
      "Enter 2nd word: medical\n"
     ]
    },
    {
     "name": "stdout",
     "output_type": "stream",
     "text": [
      "['a', 'c', 'd', 'e', 'i', 'l', 'm']\n",
      "['a', 'c', 'd', 'e', 'i', 'l', 'm']\n",
      "Strings are Anagram\n"
     ]
    }
   ],
   "source": [
    "s1 = input(\"Enter 1st word:\")\n",
    "s2 = input(\"Enter 2nd word:\")\n",
    "\n",
    "print(sorted(s1))\n",
    "print(sorted(s2))\n",
    "\n",
    "if sorted(s1) == sorted(s2):\n",
    "    print(\"Strings are Anagram\")\n",
    "else:\n",
    "    print(\"Strings are not Anagram\")"
   ]
  },
  {
   "cell_type": "markdown",
   "metadata": {},
   "source": [
    "### 12) : Rearrange the given string. First lowercase then uppercase alphabets.\n",
    "### input : EHlsarwiwhtwMV\n",
    "### output : lsarwiwhtwEHMV"
   ]
  },
  {
   "cell_type": "code",
   "execution_count": 31,
   "metadata": {},
   "outputs": [
    {
     "name": "stdin",
     "output_type": "stream",
     "text": [
      "Enter string here: EHlsarwiwhtwMV\n"
     ]
    },
    {
     "name": "stdout",
     "output_type": "stream",
     "text": [
      "ahilrstwwwEHMV\n"
     ]
    }
   ],
   "source": [
    "s1 = input(\"Enter string here:\")\n",
    "lowercase = \"\".join(sorted([char for char in s1 if char.islower()]))\n",
    "uppercase = \"\".join(sorted([char for char in s1 if char.isupper()]))\n",
    "result = lowercase + uppercase\n",
    "print(result)"
   ]
  }
 ],
 "metadata": {
  "kernelspec": {
   "display_name": "Python 3 (ipykernel)",
   "language": "python",
   "name": "python3"
  },
  "language_info": {
   "codemirror_mode": {
    "name": "ipython",
    "version": 3
   },
   "file_extension": ".py",
   "mimetype": "text/x-python",
   "name": "python",
   "nbconvert_exporter": "python",
   "pygments_lexer": "ipython3",
   "version": "3.12.7"
  },
  "vscode": {
   "interpreter": {
    "hash": "31f2aee4e71d21fbe5cf8b01ff0e069b9275f58929596ceb00d14d90e3e16cd6"
   }
  }
 },
 "nbformat": 4,
 "nbformat_minor": 4
}
