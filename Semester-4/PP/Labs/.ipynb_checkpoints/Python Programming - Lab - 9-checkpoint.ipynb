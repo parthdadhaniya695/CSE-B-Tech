{
 "cells": [
  {
   "cell_type": "markdown",
   "metadata": {},
   "source": [
    "<a href='https://www.darshan.ac.in/'> <img src='https://www.darshan.ac.in/Content/media/DU_Logo.svg' width=\"250\" height=\"300\"/></a>\n",
    "<pre>\n",
    "<center><b><h1>Python Programming - 2301CS404</b></center>\n",
    "<center><b><h1>Lab - 9</b></center>\n",
    "<center><b><h1>Dadhaniya Parth</b></center>\n",
    "<center><b><h1>24010101621</b></center>\n",
    "<pre>"
   ]
  },
  {
   "cell_type": "markdown",
   "metadata": {},
   "source": [
    "# File I/O"
   ]
  },
  {
   "cell_type": "markdown",
   "metadata": {},
   "source": [
    "### 01) WAP to read and display the contents of a text file. (also try to open the file in some other directory) \n",
    "#### - in the form of a string\n",
    "#### - line by line\n",
    "#### - in the form of a list"
   ]
  },
  {
   "cell_type": "markdown",
   "metadata": {},
   "source": [
    "### 02) WAP to create file named \"new.txt\" only if it doesn't exist."
   ]
  },
  {
   "cell_type": "code",
   "execution_count": 2,
   "metadata": {},
   "outputs": [
    {
     "name": "stdout",
     "output_type": "stream",
     "text": [
      "File Data is: dadhaniya Parth\n"
     ]
    }
   ],
   "source": [
    "# same directory\n",
    "fp = open(\"demo.txt\",\"r\")\n",
    "data = fp.read()\n",
    "print(\"File Data is:\",data)\n",
    "fp.close()"
   ]
  },
  {
   "cell_type": "markdown",
   "metadata": {},
   "source": [
    "### 03) WAP to read first 5 lines from the text file."
   ]
  },
  {
   "cell_type": "code",
   "execution_count": 3,
   "metadata": {},
   "outputs": [
    {
     "name": "stdout",
     "output_type": "stream",
     "text": [
      "Data is: Dadhaniya Parth\n"
     ]
    }
   ],
   "source": [
    "# different directory\n",
    "fp = open(\"D:\\\\B-Tech\\\\Semester-4\\\\PP\\\\demo1.txt\")\n",
    "print(\"Data is:\",fp.read())\n",
    "fp.close()"
   ]
  },
  {
   "cell_type": "markdown",
   "metadata": {},
   "source": [
    "### 04) WAP to find the longest word(s) in a file"
   ]
  },
  {
   "cell_type": "code",
   "execution_count": 4,
   "metadata": {},
   "outputs": [
    {
     "name": "stdout",
     "output_type": "stream",
     "text": [
      "Dadhaniya Parth\n",
      "Student of Darshan University\n",
      "Full Stack Developer"
     ]
    }
   ],
   "source": [
    "# line by line\n",
    "fp = open(\"demo.txt\",\"r\")\n",
    "line1 = fp.readline()\n",
    "print(line1, end=\"\")\n",
    "line2 = fp.readline()\n",
    "print(line2, end=\"\")\n",
    "line3 = fp.readline()\n",
    "print(line3, end=\"\")\n",
    "fp.close()"
   ]
  },
  {
   "cell_type": "code",
   "execution_count": 5,
   "metadata": {},
   "outputs": [
    {
     "name": "stdout",
     "output_type": "stream",
     "text": [
      "['Dadhaniya Parth\\n', 'Student of Darshan University\\n', 'Full Stack Developer']\n"
     ]
    }
   ],
   "source": [
    "# in the form of a list\n",
    "fp = open(\"demo.txt\",\"r\")\n",
    "li = fp.readlines()\n",
    "print(li)\n",
    "fp.close()"
   ]
  },
  {
   "cell_type": "markdown",
   "metadata": {},
   "source": [
    "### 05) WAP to count the no. of lines, words and characters in a given text file."
   ]
  },
  {
   "cell_type": "code",
   "execution_count": 7,
   "metadata": {},
   "outputs": [
    {
     "name": "stdout",
     "output_type": "stream",
     "text": [
      "3\n",
      "9\n",
      "66\n"
     ]
    }
   ],
   "source": [
    "file = open(\"demo.txt\", 'r')\n",
    "\n",
    "num_lines = 0\n",
    "num_words = 0\n",
    "num_chars = 0\n",
    "\n",
    "for line in file:\n",
    "    num_lines += 1\n",
    "    num_words += len(line.split())\n",
    "    num_chars += len(line)\n",
    "\n",
    "file.close()\n",
    "\n",
    "print(num_lines)\n",
    "print(num_words)\n",
    "print(num_chars)"
   ]
  },
  {
   "cell_type": "markdown",
   "metadata": {},
   "source": [
    "### 06) WAP to copy the content of a file to the another file."
   ]
  },
  {
   "cell_type": "code",
   "execution_count": 8,
   "metadata": {},
   "outputs": [],
   "source": [
    "sf = open('demo.txt', 'r')\n",
    "df = open('demo2.txt', 'w')\n",
    "\n",
    "df.write(sf.read())\n",
    "\n",
    "sf.close()\n",
    "df.close()"
   ]
  },
  {
   "cell_type": "markdown",
   "metadata": {},
   "source": [
    "### 07) WAP to find the size of the text file. "
   ]
  },
  {
   "cell_type": "code",
   "execution_count": 10,
   "metadata": {},
   "outputs": [
    {
     "name": "stdout",
     "output_type": "stream",
     "text": [
      "File size is: 66 bytes\n"
     ]
    }
   ],
   "source": [
    "fp = open('demo.txt', 'r')\n",
    "fp.seek(0, 2)\n",
    "size = fp.tell()\n",
    "fp.close()\n",
    "print(\"File size is:\",size,\"bytes\")"
   ]
  },
  {
   "cell_type": "markdown",
   "metadata": {},
   "source": [
    "### 08) WAP to create an UDF named frequency to count occurances of the specific word in a given text file."
   ]
  },
  {
   "cell_type": "code",
   "execution_count": 21,
   "metadata": {},
   "outputs": [
    {
     "name": "stdin",
     "output_type": "stream",
     "text": [
      "Enter the word to count:  Parth\n"
     ]
    },
    {
     "name": "stdout",
     "output_type": "stream",
     "text": [
      "Count Of Words: 1\n"
     ]
    }
   ],
   "source": [
    "def frequency(fp, word):\n",
    "    count = 0\n",
    "    with open(fp, 'r') as file:\n",
    "        for line in file:\n",
    "            count += line.lower().split().count(word.lower())\n",
    "    return count\n",
    "\n",
    "word = input(\"Enter the word to count: \")\n",
    "\n",
    "word_count = frequency(\"demo.txt\", word)\n",
    "print(\"Count Of Words:\",word_count)"
   ]
  },
  {
   "cell_type": "markdown",
   "metadata": {},
   "source": [
    "### 09) WAP to get the score of five subjects from the user, store them in a file. Fetch those marks and find the highest score."
   ]
  },
  {
   "cell_type": "code",
   "execution_count": 26,
   "metadata": {},
   "outputs": [
    {
     "name": "stdin",
     "output_type": "stream",
     "text": [
      "Enter marks:  99\n",
      "Enter marks:  867\n",
      "Enter marks:  54\n",
      "Enter marks:  67\n",
      "Enter marks:  89\n"
     ]
    },
    {
     "name": "stdout",
     "output_type": "stream",
     "text": [
      "Highest score: 867\n"
     ]
    }
   ],
   "source": [
    "f = open(\"marks.txt\", \"w\")\n",
    "for i in range(5):\n",
    "    f.write(input(\"Enter marks: \") + \"\\n\")\n",
    "f.close()\n",
    "\n",
    "f = open(\"marks.txt\", \"r\")\n",
    "marks = [int(line.strip()) for line in f]\n",
    "f.close()\n",
    "print(\"Highest score:\", max(marks))"
   ]
  },
  {
   "cell_type": "markdown",
   "metadata": {},
   "source": [
    "### 10) WAP to write first 100 prime numbers to a file named primenumbers.txt \n",
    "(Note: each number should be in new line)"
   ]
  },
  {
   "cell_type": "code",
   "execution_count": 28,
   "metadata": {},
   "outputs": [],
   "source": [
    "fp = open(\"primenumbers.txt\", \"w\")\n",
    "n, count = 2, 0\n",
    "while count < 100:\n",
    "    for i in range(2, int(n**0.5) + 1):\n",
    "        if n % i == 0:\n",
    "            break\n",
    "    else:\n",
    "        fp.write(str(n) + \"\\n\")\n",
    "        count += 1\n",
    "    n += 1\n",
    "fp.close()"
   ]
  },
  {
   "cell_type": "markdown",
   "metadata": {},
   "source": [
    "### 11) WAP to merge two files and write it in a new file."
   ]
  },
  {
   "cell_type": "code",
   "execution_count": 29,
   "metadata": {},
   "outputs": [],
   "source": [
    "f1 = open(\"file1.txt\", \"r\")\n",
    "f2 = open(\"file2.txt\", \"r\")\n",
    "f3 = open(\"mergedfile.txt\", \"w\")\n",
    "\n",
    "f3.write(f1.read())\n",
    "f3.write(\"\\n\")\n",
    "f3.write(f2.read())\n",
    "\n",
    "f1.close()\n",
    "f2.close()\n",
    "f3.close()"
   ]
  },
  {
   "cell_type": "markdown",
   "metadata": {},
   "source": [
    "### 12) WAP to replace word1 by word2 of a text file. Write the updated data to new file."
   ]
  },
  {
   "cell_type": "code",
   "execution_count": 1,
   "metadata": {},
   "outputs": [],
   "source": [
    "f1 = open(\"demo.txt\", \"r\")\n",
    "f2 = open(\"updatedfile.txt\", \"w\")\n",
    "\n",
    "word1 = \"Parth\"\n",
    "word2 = \"Patel\"\n",
    "\n",
    "data = f1.read().replace(word1, word2)\n",
    "f2.write(data)\n",
    "\n",
    "f1.close()\n",
    "f2.close()"
   ]
  },
  {
   "cell_type": "markdown",
   "metadata": {},
   "source": [
    "### 13) Demonstrate tell() and seek() for all the cases(seek from beginning-end-current position) taking a suitable example of your choice."
   ]
  },
  {
   "cell_type": "code",
   "execution_count": 1,
   "metadata": {},
   "outputs": [
    {
     "name": "stdout",
     "output_type": "stream",
     "text": [
      "Current position: 0\n",
      "Position after seeking to 7: 7\n",
      "Reading from position 7: this\n"
     ]
    }
   ],
   "source": [
    "f = open(\"example.txt\", \"w+\")\n",
    "f.write(\"Hello, this is an example file.\")\n",
    "f.seek(0)\n",
    "print(\"Current position:\", f.tell())\n",
    "f.seek(7)\n",
    "print(\"Position after seeking to 7:\", f.tell())\n",
    "print(\"Reading from position 7:\", f.read(4))\n",
    "f.close()"
   ]
  }
 ],
 "metadata": {
  "kernelspec": {
   "display_name": "Python 3 (ipykernel)",
   "language": "python",
   "name": "python3"
  },
  "language_info": {
   "codemirror_mode": {
    "name": "ipython",
    "version": 3
   },
   "file_extension": ".py",
   "mimetype": "text/x-python",
   "name": "python",
   "nbconvert_exporter": "python",
   "pygments_lexer": "ipython3",
   "version": "3.12.7"
  }
 },
 "nbformat": 4,
 "nbformat_minor": 4
}
