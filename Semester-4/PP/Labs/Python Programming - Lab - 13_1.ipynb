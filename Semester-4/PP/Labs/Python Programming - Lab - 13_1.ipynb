{
 "cells": [
  {
   "cell_type": "markdown",
   "metadata": {},
   "source": [
    "<a href='https://www.darshan.ac.in/'> <img src='https://www.darshan.ac.in/Content/media/DU_Logo.svg' width=\"250\" height=\"300\"/></a>\n",
    "<pre>\n",
    "<center><b><h1>Python Programming - 2301CS404</b></center>\n",
    "<center><b><h1>Lab - 13</b></center>\n",
    "<center><b><h1>Dadhaniya Parth</b></center>\n",
    "<center><b><h1>24010101621</b></center>\n",
    "<pre>"
   ]
  },
  {
   "cell_type": "markdown",
   "metadata": {},
   "source": [
    "# OOP"
   ]
  },
  {
   "cell_type": "markdown",
   "metadata": {},
   "source": [
    "### 01) Write a Program to create a class by name Students, and initialize attributes like name, age, and grade while creating an object."
   ]
  },
  {
   "cell_type": "code",
   "execution_count": 1,
   "metadata": {},
   "outputs": [
    {
     "name": "stdout",
     "output_type": "stream",
     "text": [
      "Name: John Doe, Age: 16, Grade: 10th Grade\n"
     ]
    }
   ],
   "source": [
    "class Students:\n",
    "    def __init__(self, name, age, grade):\n",
    "        self.name = name\n",
    "        self.age = age\n",
    "        self.grade = grade\n",
    "    \n",
    "    def display_info(self):\n",
    "        print(f\"Name: {self.name}, Age: {self.age}, Grade: {self.grade}\")\n",
    "\n",
    "student1 = Students(\"John Doe\", 16, \"10th Grade\")\n",
    "\n",
    "student1.display_info()"
   ]
  },
  {
   "cell_type": "markdown",
   "metadata": {},
   "source": [
    "### 02) Create a class named Bank_Account with Account_No, User_Name, Email,Account_Type and Account_Balance data members. Also create a method GetAccountDetails() and DisplayAccountDetails(). Create main method to demonstrate the Bank_Account class."
   ]
  },
  {
   "cell_type": "code",
   "execution_count": 2,
   "metadata": {},
   "outputs": [
    {
     "name": "stdin",
     "output_type": "stream",
     "text": [
      "Enter Account Number:  161116111611\n",
      "Enter User Name:  Parth \n",
      "Enter Email:  parth@gmail.com\n",
      "Enter Account Type:  current \n",
      "Enter Account Balance:  25000\n"
     ]
    },
    {
     "name": "stdout",
     "output_type": "stream",
     "text": [
      "\n",
      "Account Details:\n",
      "Account Number: 161116111611\n",
      "User Name: Parth \n",
      "Email: parth@gmail.com\n",
      "Account Type: current \n",
      "Account Balance: 25000.0\n"
     ]
    }
   ],
   "source": [
    "class Bank_Account:\n",
    "    def __init__(self, account_no, user_name, email, account_type, account_balance):\n",
    "        self.account_no = account_no\n",
    "        self.user_name = user_name\n",
    "        self.email = email\n",
    "        self.account_type = account_type\n",
    "        self.account_balance = account_balance\n",
    "    \n",
    "    def GetAccountDetails(self):\n",
    "        self.account_no = input(\"Enter Account Number: \")\n",
    "        self.user_name = input(\"Enter User Name: \")\n",
    "        self.email = input(\"Enter Email: \")\n",
    "        self.account_type = input(\"Enter Account Type: \")\n",
    "        self.account_balance = float(input(\"Enter Account Balance: \"))\n",
    "    \n",
    "    def DisplayAccountDetails(self):\n",
    "        print(\"\\nAccount Details:\")\n",
    "        print(f\"Account Number: {self.account_no}\")\n",
    "        print(f\"User Name: {self.user_name}\")\n",
    "        print(f\"Email: {self.email}\")\n",
    "        print(f\"Account Type: {self.account_type}\")\n",
    "        print(f\"Account Balance: {self.account_balance}\")\n",
    "\n",
    "def main():\n",
    "    account = Bank_Account(\"\", \"\", \"\", \"\", 0.0)\n",
    "    account.GetAccountDetails()\n",
    "    account.DisplayAccountDetails()\n",
    "\n",
    "if __name__ == \"__main__\":\n",
    "    main()"
   ]
  },
  {
   "cell_type": "markdown",
   "metadata": {},
   "source": [
    "### 03) WAP to create Circle class with area and perimeter function to find area and perimeter of circle."
   ]
  },
  {
   "cell_type": "code",
   "execution_count": 3,
   "metadata": {},
   "outputs": [
    {
     "name": "stdout",
     "output_type": "stream",
     "text": [
      "Area of Circle: 78.53981633974483\n",
      "Perimeter of Circle: 31.41592653589793\n"
     ]
    }
   ],
   "source": [
    "import math\n",
    "\n",
    "class Circle:\n",
    "    def __init__(self, radius):\n",
    "        self.radius = radius\n",
    "    \n",
    "    def area(self):\n",
    "        return math.pi * self.radius ** 2\n",
    "    \n",
    "    def perimeter(self):\n",
    "        return 2 * math.pi * self.radius\n",
    "\n",
    "circle1 = Circle(5)\n",
    "print(f\"Area of Circle: {circle1.area()}\")\n",
    "print(f\"Perimeter of Circle: {circle1.perimeter()}\")"
   ]
  },
  {
   "cell_type": "markdown",
   "metadata": {},
   "source": [
    "### 04) Create a class for employees that includes attributes such as name, age, salary, and methods to update and display employee information."
   ]
  },
  {
   "cell_type": "code",
   "execution_count": 4,
   "metadata": {},
   "outputs": [
    {
     "name": "stdout",
     "output_type": "stream",
     "text": [
      "Employee Name: Alice\n",
      "Age: 30\n",
      "Salary: 50000\n",
      "\n",
      "Updated Employee Information:\n",
      "Employee Name: Alice\n",
      "Age: 31\n",
      "Salary: 55000\n"
     ]
    }
   ],
   "source": [
    "class Employee:\n",
    "    def __init__(self, name, age, salary):\n",
    "        self.name = name\n",
    "        self.age = age\n",
    "        self.salary = salary\n",
    "    \n",
    "    def update_info(self, name=None, age=None, salary=None):\n",
    "        if name:\n",
    "            self.name = name\n",
    "        if age:\n",
    "            self.age = age\n",
    "        if salary:\n",
    "            self.salary = salary\n",
    "    \n",
    "    def display_info(self):\n",
    "        print(f\"Employee Name: {self.name}\")\n",
    "        print(f\"Age: {self.age}\")\n",
    "        print(f\"Salary: {self.salary}\")\n",
    "\n",
    "employee1 = Employee(\"Alice\", 30, 50000)\n",
    "employee1.display_info()\n",
    "\n",
    "employee1.update_info(age=31, salary=55000)\n",
    "print(\"\\nUpdated Employee Information:\")\n",
    "employee1.display_info()"
   ]
  },
  {
   "cell_type": "markdown",
   "metadata": {},
   "source": [
    "### 05) Create a bank account class with methods to deposit, withdraw, and check balance."
   ]
  },
  {
   "cell_type": "code",
   "execution_count": 6,
   "metadata": {},
   "outputs": [
    {
     "name": "stdin",
     "output_type": "stream",
     "text": [
      "Enter Account Number:  161116111611\n",
      "Enter Account Holder Name:  Parth\n",
      "Enter Initial Balance:  10000\n"
     ]
    },
    {
     "name": "stdout",
     "output_type": "stream",
     "text": [
      "\n",
      "1. Check Balance\n",
      "2. Deposit\n",
      "3. Withdraw\n",
      "4. Exit\n"
     ]
    },
    {
     "name": "stdin",
     "output_type": "stream",
     "text": [
      "Enter your choice:  2\n",
      "Enter deposit amount:  5000\n"
     ]
    },
    {
     "name": "stdout",
     "output_type": "stream",
     "text": [
      "Deposited 5000.0. New balance: 15000.0\n",
      "\n",
      "1. Check Balance\n",
      "2. Deposit\n",
      "3. Withdraw\n",
      "4. Exit\n"
     ]
    },
    {
     "name": "stdin",
     "output_type": "stream",
     "text": [
      "Enter your choice:  1\n"
     ]
    },
    {
     "name": "stdout",
     "output_type": "stream",
     "text": [
      "Account Balance: 15000.0\n",
      "\n",
      "1. Check Balance\n",
      "2. Deposit\n",
      "3. Withdraw\n",
      "4. Exit\n"
     ]
    },
    {
     "name": "stdin",
     "output_type": "stream",
     "text": [
      "Enter your choice:  4\n"
     ]
    },
    {
     "name": "stdout",
     "output_type": "stream",
     "text": [
      "Exiting... Thank you!\n"
     ]
    }
   ],
   "source": [
    "class BankAccount:\n",
    "    def __init__(self, account_number, account_holder, balance=0.0):\n",
    "        self.account_number = account_number\n",
    "        self.account_holder = account_holder\n",
    "        self.balance = balance\n",
    "    \n",
    "    def deposit(self, amount):\n",
    "        if amount > 0:\n",
    "            self.balance += amount\n",
    "            print(f\"Deposited {amount}. New balance: {self.balance}\")\n",
    "        else:\n",
    "            print(\"Deposit amount must be positive.\")\n",
    "    \n",
    "    def withdraw(self, amount):\n",
    "        if 0 < amount <= self.balance:\n",
    "            self.balance -= amount\n",
    "            print(f\"Withdrawn {amount}. Remaining balance: {self.balance}\")\n",
    "        else:\n",
    "            print(\"Insufficient balance or invalid amount.\")\n",
    "    \n",
    "    def check_balance(self):\n",
    "        print(f\"Account Balance: {self.balance}\")\n",
    "\n",
    "account_number = input(\"Enter Account Number: \")\n",
    "account_holder = input(\"Enter Account Holder Name: \")\n",
    "balance = float(input(\"Enter Initial Balance: \"))\n",
    "\n",
    "account = BankAccount(account_number, account_holder, balance)\n",
    "\n",
    "while True:\n",
    "    print(\"\\n1. Check Balance\\n2. Deposit\\n3. Withdraw\\n4. Exit\")\n",
    "    choice = input(\"Enter your choice: \")\n",
    "    \n",
    "    if choice == \"1\":\n",
    "        account.check_balance()\n",
    "    elif choice == \"2\":\n",
    "        amount = float(input(\"Enter deposit amount: \"))\n",
    "        account.deposit(amount)\n",
    "    elif choice == \"3\":\n",
    "        amount = float(input(\"Enter withdrawal amount: \"))\n",
    "        account.withdraw(amount)\n",
    "    elif choice == \"4\":\n",
    "        print(\"Exiting... Thank you!\")\n",
    "        break\n",
    "    else:\n",
    "        print(\"Invalid choice! Please try again.\")"
   ]
  },
  {
   "cell_type": "markdown",
   "metadata": {},
   "source": [
    "### 06) Create a class for managing inventory that includes attributes such as item name, price, quantity, and methods to add, remove, and update items."
   ]
  },
  {
   "cell_type": "code",
   "execution_count": 7,
   "metadata": {},
   "outputs": [
    {
     "name": "stdout",
     "output_type": "stream",
     "text": [
      "\n",
      "1. Add Item\n",
      "2. Remove Item\n",
      "3. Display Inventory\n",
      "4. Exit\n"
     ]
    },
    {
     "name": "stdin",
     "output_type": "stream",
     "text": [
      "Enter your choice:  1\n",
      "Item name:  Laptop\n",
      "Price:  3\n",
      "Quantity:  3\n"
     ]
    },
    {
     "name": "stdout",
     "output_type": "stream",
     "text": [
      "Added 3 of Laptop at $3.0 each.\n",
      "\n",
      "1. Add Item\n",
      "2. Remove Item\n",
      "3. Display Inventory\n",
      "4. Exit\n"
     ]
    },
    {
     "name": "stdin",
     "output_type": "stream",
     "text": [
      "Enter your choice:  4\n"
     ]
    },
    {
     "name": "stdout",
     "output_type": "stream",
     "text": [
      "Exiting... Thank you!\n"
     ]
    }
   ],
   "source": [
    "class Inventory:\n",
    "    def __init__(self):\n",
    "        self.items = {}\n",
    "    \n",
    "    def add_item(self, name, price, quantity):\n",
    "        if name in self.items:\n",
    "            self.items[name]['quantity'] += quantity\n",
    "        else:\n",
    "            self.items[name] = {'price': price, 'quantity': quantity}\n",
    "        print(f\"Added {quantity} of {name} at ${price} each.\")\n",
    "    \n",
    "    def remove_item(self, name, quantity):\n",
    "        if name in self.items:\n",
    "            if self.items[name]['quantity'] >= quantity:\n",
    "                self.items[name]['quantity'] -= quantity\n",
    "                print(f\"Removed {quantity} of {name}.\")\n",
    "                if self.items[name]['quantity'] == 0:\n",
    "                    del self.items[name]\n",
    "            else:\n",
    "                print(\"Insufficient quantity.\")\n",
    "        else:\n",
    "            print(\"Item not found.\")\n",
    "    \n",
    "    def display_inventory(self):\n",
    "        if not self.items:\n",
    "            print(\"\\nInventory is empty.\")\n",
    "        else:\n",
    "            print(\"\\nInventory:\")\n",
    "            for name, details in sorted(self.items.items()):\n",
    "                print(f\"{name}: ${details['price']}, Qty: {details['quantity']}\")\n",
    "\n",
    "inventory = Inventory()\n",
    "\n",
    "while True:\n",
    "    print(\"\\n1. Add Item\\n2. Remove Item\\n3. Display Inventory\\n4. Exit\")\n",
    "    choice = input(\"Enter your choice: \")\n",
    "    \n",
    "    if choice == \"1\":\n",
    "        name = input(\"Item name: \")\n",
    "        price = float(input(\"Price: \"))\n",
    "        quantity = int(input(\"Quantity: \"))\n",
    "        inventory.add_item(name, price, quantity)\n",
    "    elif choice == \"2\":\n",
    "        name = input(\"Item name to remove: \")\n",
    "        quantity = int(input(\"Quantity to remove: \"))\n",
    "        inventory.remove_item(name, quantity)\n",
    "    elif choice == \"3\":\n",
    "        inventory.display_inventory()\n",
    "    elif choice == \"4\":\n",
    "        print(\"Exiting... Thank you!\")\n",
    "        break\n",
    "    else:\n",
    "        print(\"Invalid choice! Try again.\")\n"
   ]
  },
  {
   "cell_type": "markdown",
   "metadata": {},
   "source": [
    "### 07) Create a Class with instance attributes of your choice."
   ]
  },
  {
   "cell_type": "code",
   "execution_count": 8,
   "metadata": {},
   "outputs": [
    {
     "name": "stdout",
     "output_type": "stream",
     "text": [
      "Name: Alice, Age: 20, Grade: A\n",
      "Name: Bob, Age: 22, Grade: B\n"
     ]
    }
   ],
   "source": [
    "class Student:\n",
    "    def __init__(self, name, age, grade):\n",
    "        self.name = name\n",
    "        self.age = age\n",
    "        self.grade = grade\n",
    "    \n",
    "    def display_details(self):\n",
    "        print(f\"Name: {self.name}, Age: {self.age}, Grade: {self.grade}\")\n",
    "\n",
    "student1 = Student(\"Alice\", 20, \"A\")\n",
    "student2 = Student(\"Bob\", 22, \"B\")\n",
    "\n",
    "student1.display_details()\n",
    "student2.display_details()"
   ]
  },
  {
   "cell_type": "markdown",
   "metadata": {},
   "source": [
    "### 08) Create one class student_kit\n",
    "#### Within the student_kit class create one class attribute principal name ( Mr ABC )\n",
    "#### Create one attendance method and take input as number of days.\n",
    "#### While creating student take input their name .\n",
    "#### Create one certificate for each student by taking input of number of days present in class."
   ]
  },
  {
   "cell_type": "code",
   "execution_count": 10,
   "metadata": {},
   "outputs": [
    {
     "name": "stdin",
     "output_type": "stream",
     "text": [
      "Enter student name:  Parth\n",
      "Enter number of days present:  90\n"
     ]
    },
    {
     "name": "stdout",
     "output_type": "stream",
     "text": [
      "\n",
      "----------------------------\n",
      "Certificate of Attendance\n",
      "Presented to: Parth\n",
      "Principal: Mr. ABC\n",
      "Days Present: 90\n",
      "----------------------------\n",
      "\n"
     ]
    }
   ],
   "source": [
    "class StudentKit:\n",
    "    principal_name = \"Mr. ABC\"\n",
    "    \n",
    "    def __init__(self, name):\n",
    "        self.name = name\n",
    "        self.attendance_days = 0\n",
    "    \n",
    "    def attendance(self, days):\n",
    "        self.attendance_days = days\n",
    "    \n",
    "    def generate_certificate(self):\n",
    "        print(\"\\n----------------------------\")\n",
    "        print(f\"Certificate of Attendance\")\n",
    "        print(f\"Presented to: {self.name}\")\n",
    "        print(f\"Principal: {StudentKit.principal_name}\")\n",
    "        print(f\"Days Present: {self.attendance_days}\")\n",
    "        print(\"----------------------------\\n\")\n",
    "\n",
    "name = input(\"Enter student name: \")\n",
    "student = StudentKit(name)\n",
    "days_present = int(input(\"Enter number of days present: \"))\n",
    "student.attendance(days_present)\n",
    "student.generate_certificate()"
   ]
  },
  {
   "cell_type": "markdown",
   "metadata": {},
   "source": [
    "### 09) Define Time class with hour and minute as data member. Also define addition method to add two time objects."
   ]
  },
  {
   "cell_type": "code",
   "execution_count": 11,
   "metadata": {},
   "outputs": [
    {
     "name": "stdout",
     "output_type": "stream",
     "text": [
      "Time: 4 hours and 20 minutes\n"
     ]
    }
   ],
   "source": [
    "class Time:\n",
    "    def __init__(self, hour, minute):\n",
    "        self.hour = hour\n",
    "        self.minute = minute\n",
    "    \n",
    "    def add_time(self, other):\n",
    "        total_minutes = self.minute + other.minute\n",
    "        extra_hours = total_minutes // 60\n",
    "        final_minutes = total_minutes % 60\n",
    "        final_hours = self.hour + other.hour + extra_hours\n",
    "        return Time(final_hours, final_minutes)\n",
    "    \n",
    "    def display_time(self):\n",
    "        print(f\"Time: {self.hour} hours and {self.minute} minutes\")\n",
    "\n",
    "time1 = Time(2, 50)\n",
    "time2 = Time(1, 30)\n",
    "sum_time = time1.add_time(time2)\n",
    "sum_time.display_time()"
   ]
  }
 ],
 "metadata": {
  "kernelspec": {
   "display_name": "Python 3 (ipykernel)",
   "language": "python",
   "name": "python3"
  },
  "language_info": {
   "codemirror_mode": {
    "name": "ipython",
    "version": 3
   },
   "file_extension": ".py",
   "mimetype": "text/x-python",
   "name": "python",
   "nbconvert_exporter": "python",
   "pygments_lexer": "ipython3",
   "version": "3.12.7"
  }
 },
 "nbformat": 4,
 "nbformat_minor": 4
}
