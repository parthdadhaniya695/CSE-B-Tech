{
 "cells": [
  {
   "cell_type": "markdown",
   "metadata": {},
   "source": [
    "<a href='https://www.darshan.ac.in/'> <img src='https://www.darshan.ac.in/Content/media/DU_Logo.svg' width=\"250\" height=\"10\"/></a>\n",
    "<pre>\n",
    "<center><b><h1>Python Programming - 2301CS404</b></center>\n",
    "<center><b><h1>Lab - 1</b></center>\n",
    "<center><b><h1>Dadhaniya Parth</b></center>\n",
    "<center><b><h1>24010101621</b></center>\n",
    "<pre>"
   ]
  },
  {
   "cell_type": "markdown",
   "metadata": {},
   "source": [
    "### 01) WAP to print “Hello World”"
   ]
  },
  {
   "cell_type": "code",
   "execution_count": 1,
   "metadata": {},
   "outputs": [
    {
     "name": "stdout",
     "output_type": "stream",
     "text": [
      "Hello World\n"
     ]
    }
   ],
   "source": [
    "print(\"Hello World\")"
   ]
  },
  {
   "cell_type": "markdown",
   "metadata": {},
   "source": [
    "### 02) WAP to print addition of two numbers with and without using input()."
   ]
  },
  {
   "cell_type": "code",
   "execution_count": 3,
   "metadata": {},
   "outputs": [
    {
     "name": "stdout",
     "output_type": "stream",
     "text": [
      "Addition is: 50\n"
     ]
    }
   ],
   "source": [
    "# without input function\n",
    "n1 = 30\n",
    "n2 = 20\n",
    "ans = n1 + n2\n",
    "print(\"Addition is:\",ans)"
   ]
  },
  {
   "cell_type": "code",
   "execution_count": 4,
   "metadata": {},
   "outputs": [
    {
     "name": "stdin",
     "output_type": "stream",
     "text": [
      "Enter 1st Number: 12\n",
      "Enter 2nd Number: 12\n"
     ]
    },
    {
     "name": "stdout",
     "output_type": "stream",
     "text": [
      "Addition is: 24\n"
     ]
    }
   ],
   "source": [
    "# with input function\n",
    "n1 = int(input(\"Enter 1st Number:\"))\n",
    "n2 = int(input(\"Enter 2nd Number:\"))\n",
    "ans = n1 + n2\n",
    "print(\"Addition is:\",ans)"
   ]
  },
  {
   "cell_type": "markdown",
   "metadata": {},
   "source": [
    "### 03) WAP to check the type of the variable."
   ]
  },
  {
   "cell_type": "code",
   "execution_count": 5,
   "metadata": {},
   "outputs": [
    {
     "name": "stdout",
     "output_type": "stream",
     "text": [
      "<class 'str'>\n",
      "Parth\n",
      "<class 'int'>\n",
      "563\n"
     ]
    }
   ],
   "source": [
    "a = \"Parth\"\n",
    "b = 563\n",
    "print(type(a))\n",
    "print(a)\n",
    "print(type(b))\n",
    "print(b)"
   ]
  },
  {
   "cell_type": "markdown",
   "metadata": {},
   "source": [
    "### 04) WAP to calculate simple interest."
   ]
  },
  {
   "cell_type": "code",
   "execution_count": 7,
   "metadata": {},
   "outputs": [
    {
     "name": "stdin",
     "output_type": "stream",
     "text": [
      "Enter principle: 10000\n",
      "Enter time period: 5\n",
      "Enter rate of interest: 5\n"
     ]
    },
    {
     "name": "stdout",
     "output_type": "stream",
     "text": [
      "The principal is 10000\n",
      "The time period is 5\n",
      "The rate of interest is 5\n",
      "Simple interest is :  2500.0\n"
     ]
    }
   ],
   "source": [
    "p = int(input(\"Enter principle:\"))\n",
    "t = int(input(\"Enter time period:\"))\n",
    "r = int(input(\"Enter rate of interest:\"))\n",
    "print('The principal is', p)\n",
    "print('The time period is', t)\n",
    "print('The rate of interest is',r)\n",
    "si = (p * t * r)/100\n",
    "print(\"Simple interest is : \",si)"
   ]
  },
  {
   "cell_type": "markdown",
   "metadata": {},
   "source": [
    "### 05) WAP to calculate area and perimeter of a circle."
   ]
  },
  {
   "cell_type": "code",
   "execution_count": 10,
   "metadata": {},
   "outputs": [
    {
     "name": "stdin",
     "output_type": "stream",
     "text": [
      "Enter the radius of the circle: 23\n"
     ]
    },
    {
     "name": "stdout",
     "output_type": "stream",
     "text": [
      "Area of circle is: 1661.06\n"
     ]
    }
   ],
   "source": [
    "radius = float(input(\"Enter the radius of the circle:\"))\n",
    "area = 3.14 * radius * radius\n",
    "print(\"Area of circle is:\",area)"
   ]
  },
  {
   "cell_type": "markdown",
   "metadata": {},
   "source": [
    "### 06) WAP to calculate area of a triangle."
   ]
  },
  {
   "cell_type": "code",
   "execution_count": 19,
   "metadata": {},
   "outputs": [
    {
     "name": "stdin",
     "output_type": "stream",
     "text": [
      "Enter 1st side: 7\n",
      "Enter 2nd side: 8\n",
      "Enter 3rd side: 9\n"
     ]
    },
    {
     "name": "stdout",
     "output_type": "stream",
     "text": [
      "The area of the triangle is:  26.832815729997478\n"
     ]
    }
   ],
   "source": [
    "s1 = int(input(\"Enter 1st side:\"))\n",
    "s2 = int(input(\"Enter 2nd side:\"))\n",
    "s3 = int(input(\"Enter 3rd side:\"))\n",
    "s = (s1+s2+s3) / 2\n",
    "area = ((s*(s-s1)*(s-s2)*(s-s3))**0.5)\n",
    "print(\"The area of the triangle is: \",area)"
   ]
  },
  {
   "cell_type": "markdown",
   "metadata": {},
   "source": [
    "### 08) WAP to convert degree into Fahrenheit and vice versa."
   ]
  },
  {
   "cell_type": "code",
   "execution_count": 20,
   "metadata": {},
   "outputs": [
    {
     "name": "stdin",
     "output_type": "stream",
     "text": [
      "Enter degree in celsius: 40\n"
     ]
    },
    {
     "name": "stdout",
     "output_type": "stream",
     "text": [
      "Fahrenheit is: 104.0\n"
     ]
    }
   ],
   "source": [
    "celsius = float(input(\"Enter degree in celsius:\"))\n",
    "fahrenheit = (celsius * 1.8) + 32\n",
    "print(\"Fahrenheit is:\",fahrenheit)"
   ]
  },
  {
   "cell_type": "markdown",
   "metadata": {},
   "source": [
    "### 09) WAP to find the distance between two points in 2-D space."
   ]
  },
  {
   "cell_type": "code",
   "execution_count": 21,
   "metadata": {},
   "outputs": [
    {
     "name": "stdin",
     "output_type": "stream",
     "text": [
      "Enter x-coordinate of the first point:  3\n",
      "Enter y-coordinate of the first point:  4\n",
      "Enter x-coordinate of the second point:  7\n",
      "Enter y-coordinate of the second point:  1\n"
     ]
    },
    {
     "name": "stdout",
     "output_type": "stream",
     "text": [
      "The distance between the two points is: 5.0\n"
     ]
    }
   ],
   "source": [
    "x1 = float(input(\"Enter x-coordinate of the first point: \"))\n",
    "y1 = float(input(\"Enter y-coordinate of the first point: \"))\n",
    "\n",
    "x2 = float(input(\"Enter x-coordinate of the second point: \"))\n",
    "y2 = float(input(\"Enter y-coordinate of the second point: \"))\n",
    "\n",
    "distance = ((x2 - x1) ** 2 + (y2 - y1) ** 2) ** 0.5\n",
    "\n",
    "print(f\"The distance between the two points is: {distance}\")"
   ]
  },
  {
   "cell_type": "markdown",
   "metadata": {},
   "source": [
    "### 10) WAP to print sum of n natural numbers."
   ]
  },
  {
   "cell_type": "code",
   "execution_count": 22,
   "metadata": {},
   "outputs": [
    {
     "name": "stdin",
     "output_type": "stream",
     "text": [
      "Enter a positive integer:  6\n"
     ]
    },
    {
     "name": "stdout",
     "output_type": "stream",
     "text": [
      "The sum of the first 6 natural numbers is: 21\n"
     ]
    }
   ],
   "source": [
    "n = int(input(\"Enter a positive integer: \"))\n",
    "\n",
    "if n < 1:\n",
    "    print(\"Please enter a positive integer greater than 0.\")\n",
    "else:\n",
    "    total = n * (n + 1) // 2\n",
    "    \n",
    "print(f\"The sum of the first {n} natural numbers is: {total}\")\n"
   ]
  },
  {
   "cell_type": "markdown",
   "metadata": {},
   "source": [
    "### 11) WAP to print sum of square of n natural numbers."
   ]
  },
  {
   "cell_type": "code",
   "execution_count": 23,
   "metadata": {},
   "outputs": [
    {
     "name": "stdin",
     "output_type": "stream",
     "text": [
      "Enter a positive integer:  5\n"
     ]
    },
    {
     "name": "stdout",
     "output_type": "stream",
     "text": [
      "The sum of squares of the first 5 natural numbers is: 55\n"
     ]
    }
   ],
   "source": [
    "n = int(input(\"Enter a positive integer: \"))\n",
    "\n",
    "if n < 1:\n",
    "    print(\"Please enter a positive integer greater than 0.\")\n",
    "else:\n",
    "    sum_of_squares = n * (n + 1) * (2 * n + 1) // 6\n",
    "print(f\"The sum of squares of the first {n} natural numbers is: {sum_of_squares}\")"
   ]
  },
  {
   "cell_type": "markdown",
   "metadata": {},
   "source": [
    "### 12) WAP to concate the first and last name of the student."
   ]
  },
  {
   "cell_type": "code",
   "execution_count": 24,
   "metadata": {},
   "outputs": [
    {
     "name": "stdin",
     "output_type": "stream",
     "text": [
      "Enter First Name: Parth\n",
      "Enter Second Name: Patel\n"
     ]
    },
    {
     "name": "stdout",
     "output_type": "stream",
     "text": [
      "Full Name is: ParthPatel\n"
     ]
    }
   ],
   "source": [
    "fname = input(\"Enter First Name:\")\n",
    "lname = input(\"Enter Second Name:\")\n",
    "print(\"Full Name is:\",fname + lname)"
   ]
  },
  {
   "cell_type": "markdown",
   "metadata": {},
   "source": [
    "### 13) WAP to swap two numbers."
   ]
  },
  {
   "cell_type": "code",
   "execution_count": 2,
   "metadata": {},
   "outputs": [
    {
     "name": "stdin",
     "output_type": "stream",
     "text": [
      "Enter the first number (a):  63\n",
      "Enter the second number (b):  89\n"
     ]
    },
    {
     "name": "stdout",
     "output_type": "stream",
     "text": [
      "Before swapping: num1 = 63, num2 = 89\n",
      "After swapping: num1 = 89, num2 = 63\n"
     ]
    }
   ],
   "source": [
    "num1 = int(input(\"Enter the first number (a): \"))\n",
    "num2 = int(input(\"Enter the second number (b): \"))\n",
    "\n",
    "print(f\"Before swapping: num1 = {num1}, num2 = {num2}\")\n",
    "\n",
    "temp = num1\n",
    "num1 = num2\n",
    "num2 = temp\n",
    "\n",
    "print(f\"After swapping: num1 = {num1}, num2 = {num2}\")"
   ]
  },
  {
   "cell_type": "markdown",
   "metadata": {},
   "source": [
    "### 14) WAP to get the distance from user into kilometer, and convert it into meter, feet, inches and centimeter."
   ]
  },
  {
   "cell_type": "code",
   "execution_count": 1,
   "metadata": {},
   "outputs": [
    {
     "name": "stdin",
     "output_type": "stream",
     "text": [
      "Enter the distance in kilometers:  1.5\n"
     ]
    },
    {
     "name": "stdout",
     "output_type": "stream",
     "text": [
      "The distance in meters is: 1500.00 m\n",
      "The distance in feet is: 4921.26 ft\n",
      "The distance in inches is: 59055.15 in\n",
      "The distance in centimeters is: 150000.00 cm\n"
     ]
    }
   ],
   "source": [
    "kilometers = float(input(\"Enter the distance in kilometers: \"))\n",
    "\n",
    "meters = kilometers * 1000\n",
    "feet = kilometers * 3280.84\n",
    "inches = kilometers * 39370.1\n",
    "centimeters = kilometers * 100000\n",
    "\n",
    "print(f\"The distance in meters is: {meters:.2f} m\")\n",
    "print(f\"The distance in feet is: {feet:.2f} ft\")\n",
    "print(f\"The distance in inches is: {inches:.2f} in\")\n",
    "print(f\"The distance in centimeters is: {centimeters:.2f} cm\")\n"
   ]
  },
  {
   "cell_type": "markdown",
   "metadata": {},
   "source": [
    "### 15) WAP to get day, month and year from the user and print the date in the given format: 23-11-2024."
   ]
  },
  {
   "cell_type": "code",
   "execution_count": 3,
   "metadata": {},
   "outputs": [
    {
     "name": "stdin",
     "output_type": "stream",
     "text": [
      "Enter day: 16\n",
      "Enter month: 11\n",
      "Enter year: 2005\n"
     ]
    },
    {
     "name": "stdout",
     "output_type": "stream",
     "text": [
      "16-11-2005\n"
     ]
    }
   ],
   "source": [
    "day = input(\"Enter day:\")\n",
    "month = input(\"Enter month:\")\n",
    "year = input(\"Enter year:\")\n",
    "print(day,month,year, sep=\"-\")"
   ]
  }
 ],
 "metadata": {
  "kernelspec": {
   "display_name": "Python 3 (ipykernel)",
   "language": "python",
   "name": "python3"
  },
  "language_info": {
   "codemirror_mode": {
    "name": "ipython",
    "version": 3
   },
   "file_extension": ".py",
   "mimetype": "text/x-python",
   "name": "python",
   "nbconvert_exporter": "python",
   "pygments_lexer": "ipython3",
   "version": "3.12.7"
  },
  "vscode": {
   "interpreter": {
    "hash": "31f2aee4e71d21fbe5cf8b01ff0e069b9275f58929596ceb00d14d90e3e16cd6"
   }
  }
 },
 "nbformat": 4,
 "nbformat_minor": 4
}
