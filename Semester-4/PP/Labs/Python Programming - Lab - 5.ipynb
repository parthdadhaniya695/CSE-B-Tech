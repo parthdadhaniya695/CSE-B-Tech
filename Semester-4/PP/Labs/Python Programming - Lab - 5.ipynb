{
 "cells": [
  {
   "cell_type": "markdown",
   "metadata": {},
   "source": [
    "\n",
    "<a href='https://www.darshan.ac.in/'> <img src='https://www.darshan.ac.in/Content/media/DU_Logo.svg' width=\"250\" height=\"300\"/></a>\n",
    "<pre>\n",
    "<center><b><h1>Python Programming - 2301CS404</b></center>\n",
    "<center><b><h1>Lab - 5</b></center>\n",
    "<center><b><h1>Dadhaniya Parth</b></center>\n",
    "<center><b><h1>24010101621</b></center>\n",
    "<pre>"
   ]
  },
  {
   "cell_type": "markdown",
   "metadata": {},
   "source": [
    "# List"
   ]
  },
  {
   "cell_type": "markdown",
   "metadata": {},
   "source": [
    "### 01) WAP to find sum of all the elements in a List."
   ]
  },
  {
   "cell_type": "code",
   "execution_count": 1,
   "metadata": {},
   "outputs": [
    {
     "name": "stdin",
     "output_type": "stream",
     "text": [
      "Enter size of list: 5\n",
      "Enter elements: 1\n",
      "Enter elements: 2\n",
      "Enter elements: 3\n",
      "Enter elements: 4\n",
      "Enter elements: 5\n"
     ]
    },
    {
     "name": "stdout",
     "output_type": "stream",
     "text": [
      "[1, 2, 3, 4, 5]\n",
      "15\n"
     ]
    }
   ],
   "source": [
    "n = int(input(\"Enter size of list:\"))\n",
    "l1 = []\n",
    "sum = 0\n",
    "for i in range(1,n+1):\n",
    "    x = int(input(\"Enter elements:\"))\n",
    "    l1.append(x)\n",
    "    sum = sum+x\n",
    "print(l1)\n",
    "print(sum)"
   ]
  },
  {
   "cell_type": "markdown",
   "metadata": {},
   "source": [
    "### 02) WAP to find largest element in a List."
   ]
  },
  {
   "cell_type": "code",
   "execution_count": 4,
   "metadata": {},
   "outputs": [
    {
     "name": "stdin",
     "output_type": "stream",
     "text": [
      "Enter size of list: 4\n",
      "Enter elements: 34\n",
      "Enter elements: 87\n",
      "Enter elements: 9076\n",
      "Enter elements: 54\n"
     ]
    },
    {
     "name": "stdout",
     "output_type": "stream",
     "text": [
      "List is: [34, 87, 9076, 54]\n",
      "Maximum value is: 9076\n"
     ]
    }
   ],
   "source": [
    "n = int(input(\"Enter size of list:\"))\n",
    "l2 = []\n",
    "for i in range(1,n+1):\n",
    "\tx=int(input(\"Enter elements:\"))\n",
    "\tl2.append(x)\n",
    "print(\"List is:\",l2)\n",
    "print(\"Maximum value is:\",max(l2))"
   ]
  },
  {
   "cell_type": "markdown",
   "metadata": {},
   "source": [
    "### 03) WAP to find the length of a List."
   ]
  },
  {
   "cell_type": "code",
   "execution_count": 6,
   "metadata": {},
   "outputs": [
    {
     "name": "stdin",
     "output_type": "stream",
     "text": [
      "Enter size of list: 3\n",
      "Enter elements: 34\n",
      "Enter elements: 5\n",
      "Enter elements: 7\n"
     ]
    },
    {
     "name": "stdout",
     "output_type": "stream",
     "text": [
      "List is: [34, 5, 7]\n",
      "Length Of List is: 3\n"
     ]
    }
   ],
   "source": [
    "n = int(input(\"Enter size of list:\"))\n",
    "l3 = []\n",
    "for i in range(1,n+1):\n",
    "\tx = int(input(\"Enter elements:\"))\n",
    "\tl3.append(x)\n",
    "print(\"List is:\",l3)\n",
    "length = len(l3)\n",
    "print('Length Of List is:',length)"
   ]
  },
  {
   "cell_type": "markdown",
   "metadata": {},
   "source": [
    "### 04) WAP to interchange first and last elements in a list."
   ]
  },
  {
   "cell_type": "code",
   "execution_count": 7,
   "metadata": {},
   "outputs": [
    {
     "name": "stdin",
     "output_type": "stream",
     "text": [
      "Enter size of list: 5\n",
      "Enter elements: 1\n",
      "Enter elements: 2\n",
      "Enter elements: 34\n",
      "Enter elements: 5\n",
      "Enter elements: 6\n"
     ]
    },
    {
     "name": "stdout",
     "output_type": "stream",
     "text": [
      "List is: [1, 2, 34, 5, 6]\n",
      "[6, 2, 34, 5, 1]\n"
     ]
    }
   ],
   "source": [
    "n = int(input(\"Enter size of list:\"))\n",
    "l4 = []\n",
    "for i in range(1,n+1):\n",
    "\tx = int(input(\"Enter elements:\"))\n",
    "\tl4.append(x)\n",
    "print(\"List is:\",l4)\n",
    "if len(l4) >= 2:\n",
    "    l4[0],l4[-1] = l4[-1], l4[0]\n",
    "print(l4)"
   ]
  },
  {
   "cell_type": "markdown",
   "metadata": {},
   "source": [
    "### 05) WAP to split the List into two parts and append the first part to the end."
   ]
  },
  {
   "cell_type": "code",
   "execution_count": 3,
   "metadata": {},
   "outputs": [
    {
     "name": "stdin",
     "output_type": "stream",
     "text": [
      "Enter size of list: 5\n"
     ]
    },
    {
     "name": "stdout",
     "output_type": "stream",
     "text": [
      "Elements are:\n"
     ]
    },
    {
     "name": "stdin",
     "output_type": "stream",
     "text": [
      " 1\n",
      " 2\n",
      " 3\n",
      " 4\n",
      " 5\n"
     ]
    },
    {
     "name": "stdout",
     "output_type": "stream",
     "text": [
      "[3, 4, 5, 1, 2]\n"
     ]
    }
   ],
   "source": [
    "n = int(input(\"Enter size of list:\"))\n",
    "a = []\n",
    "b = []\n",
    "print(\"Elements are:\")\n",
    "for i in range(n):\n",
    "\tx = int(input())\n",
    "\ta.append(x)\n",
    "part = len(a)//2\n",
    "for i in range(part,len(a)):\n",
    "\tb.append(a[i])\n",
    "for i in range(0,part):\n",
    "\tb.append(a[i])\n",
    "print(b)"
   ]
  },
  {
   "cell_type": "markdown",
   "metadata": {},
   "source": [
    "### 06) WAP to interchange the elements on two positions entered by a user."
   ]
  },
  {
   "cell_type": "code",
   "execution_count": 4,
   "metadata": {},
   "outputs": [
    {
     "name": "stdin",
     "output_type": "stream",
     "text": [
      "Enter size of list: 5\n"
     ]
    },
    {
     "name": "stdout",
     "output_type": "stream",
     "text": [
      "Elements are:\n"
     ]
    },
    {
     "name": "stdin",
     "output_type": "stream",
     "text": [
      " 1\n",
      " 2\n",
      " 3\n",
      " 4\n",
      " 5\n"
     ]
    },
    {
     "name": "stdout",
     "output_type": "stream",
     "text": [
      "Enter two positions for interchange:\n"
     ]
    },
    {
     "name": "stdin",
     "output_type": "stream",
     "text": [
      " 2\n",
      " 5\n"
     ]
    },
    {
     "name": "stdout",
     "output_type": "stream",
     "text": [
      "[1, 5, 3, 4, 2]\n"
     ]
    }
   ],
   "source": [
    "n = int(input(\"Enter size of list:\"))\n",
    "a = []\n",
    "b = []\n",
    "print(\"Elements are:\")\n",
    "for i in range(n):\n",
    "\tx = int(input())\n",
    "\ta.append(x)\n",
    "print(\"Enter two positions for interchange:\")\n",
    "n = int(input())\n",
    "m = int(input())\n",
    "b = a[n-1]\n",
    "a[n-1] = a[m-1]\n",
    "a[m-1] = b\n",
    "print(a)"
   ]
  },
  {
   "cell_type": "markdown",
   "metadata": {},
   "source": [
    "### 07) WAP to reverse the list entered by user."
   ]
  },
  {
   "cell_type": "code",
   "execution_count": 7,
   "metadata": {},
   "outputs": [
    {
     "name": "stdin",
     "output_type": "stream",
     "text": [
      "Enter size of list: 4\n"
     ]
    },
    {
     "name": "stdout",
     "output_type": "stream",
     "text": [
      "Elements are:\n"
     ]
    },
    {
     "name": "stdin",
     "output_type": "stream",
     "text": [
      " 21\n",
      " 95\n",
      " 63\n",
      " 89\n"
     ]
    },
    {
     "name": "stdout",
     "output_type": "stream",
     "text": [
      "List is: [21, 95, 63, 89]\n",
      "Reversed List is: [89, 63, 95, 21]\n"
     ]
    }
   ],
   "source": [
    "n = int(input(\"Enter size of list:\"))\n",
    "l7 = []\n",
    "print(\"Elements are:\")\n",
    "for i in range(n):\n",
    "\tx = int(input())\n",
    "\tl7.append(x)\n",
    "print(\"List is:\",l7)\n",
    "reverse = l7[::-1]\n",
    "print(\"Reversed List is:\",reverse)"
   ]
  },
  {
   "cell_type": "markdown",
   "metadata": {},
   "source": [
    "### 08) WAP to print even numbers in a list."
   ]
  },
  {
   "cell_type": "code",
   "execution_count": 8,
   "metadata": {},
   "outputs": [
    {
     "name": "stdin",
     "output_type": "stream",
     "text": [
      "Enter size of list: 7\n"
     ]
    },
    {
     "name": "stdout",
     "output_type": "stream",
     "text": [
      "Elements are:\n"
     ]
    },
    {
     "name": "stdin",
     "output_type": "stream",
     "text": [
      " 21\n",
      " 34\n",
      " 56\n",
      " 76\n",
      " 89\n",
      " 56\n",
      " 11\n"
     ]
    },
    {
     "name": "stdout",
     "output_type": "stream",
     "text": [
      "List is: [21, 34, 56, 76, 89, 56, 11]\n",
      "34\n",
      "56\n",
      "76\n",
      "56\n"
     ]
    }
   ],
   "source": [
    "n = int(input(\"Enter size of list:\"))\n",
    "l8 = []\n",
    "print(\"Elements are:\")\n",
    "for i in range(n):\n",
    "\tx = int(input())\n",
    "\tl8.append(x)\n",
    "print(\"List is:\",l8)\n",
    "\n",
    "for i in l8:\n",
    "    if i % 2 == 0:\n",
    "        print(i)"
   ]
  },
  {
   "cell_type": "markdown",
   "metadata": {},
   "source": [
    "### 09) WAP to count unique items in a list."
   ]
  },
  {
   "cell_type": "code",
   "execution_count": 9,
   "metadata": {},
   "outputs": [
    {
     "name": "stdin",
     "output_type": "stream",
     "text": [
      "Enter size of list: 3\n"
     ]
    },
    {
     "name": "stdout",
     "output_type": "stream",
     "text": [
      "Elements are:\n"
     ]
    },
    {
     "name": "stdin",
     "output_type": "stream",
     "text": [
      " 1\n",
      " 2\n",
      " 2\n"
     ]
    },
    {
     "name": "stdout",
     "output_type": "stream",
     "text": [
      "List is: [1, 2, 2]\n",
      "2\n"
     ]
    }
   ],
   "source": [
    "n = int(input(\"Enter size of list:\"))\n",
    "l9 = []\n",
    "print(\"Elements are:\")\n",
    "for i in range(n):\n",
    "\tx = int(input())\n",
    "\tl9.append(x)\n",
    "print(\"List is:\",l9)\n",
    "\n",
    "print(len(set(l9)))"
   ]
  },
  {
   "cell_type": "markdown",
   "metadata": {},
   "source": [
    "### 10) WAP to copy a list."
   ]
  },
  {
   "cell_type": "code",
   "execution_count": 11,
   "metadata": {},
   "outputs": [
    {
     "name": "stdin",
     "output_type": "stream",
     "text": [
      "Enter size of list: 5\n"
     ]
    },
    {
     "name": "stdout",
     "output_type": "stream",
     "text": [
      "Elements are:\n"
     ]
    },
    {
     "name": "stdin",
     "output_type": "stream",
     "text": [
      " 1\n",
      " 2\n",
      " 3\n",
      " 4\n",
      " 5\n"
     ]
    },
    {
     "name": "stdout",
     "output_type": "stream",
     "text": [
      "List is: [1, 2, 3, 4, 5]\n",
      "Copy is List is: [1, 2, 3, 4, 5]\n"
     ]
    }
   ],
   "source": [
    "n = int(input(\"Enter size of list:\"))\n",
    "l10 = []\n",
    "print(\"Elements are:\")\n",
    "for i in range(n):\n",
    "\tx = int(input())\n",
    "\tl10.append(x)\n",
    "print(\"List is:\",l10)\n",
    "\n",
    "copied = l10.copy()\n",
    "print(\"Copy is List is:\",copied)"
   ]
  },
  {
   "cell_type": "markdown",
   "metadata": {},
   "source": [
    "### 11) WAP to print all odd numbers in a given range."
   ]
  },
  {
   "cell_type": "code",
   "execution_count": 17,
   "metadata": {},
   "outputs": [
    {
     "name": "stdin",
     "output_type": "stream",
     "text": [
      "Enter Starting: 1\n",
      "Enter Ending: 15\n"
     ]
    },
    {
     "name": "stdout",
     "output_type": "stream",
     "text": [
      "1\n",
      "3\n",
      "5\n",
      "7\n",
      "9\n",
      "11\n",
      "13\n",
      "15\n"
     ]
    }
   ],
   "source": [
    "n1 = int(input(\"Enter Starting:\"))\n",
    "n2 = int(input(\"Enter Ending:\"))\n",
    "\n",
    "for i in range(n1,n2+1):\n",
    "    if i % 2 != 0:\n",
    "        print(i)"
   ]
  },
  {
   "cell_type": "markdown",
   "metadata": {},
   "source": [
    "### 12) WAP to count occurrences of an element in a list."
   ]
  },
  {
   "cell_type": "code",
   "execution_count": 18,
   "metadata": {},
   "outputs": [
    {
     "name": "stdin",
     "output_type": "stream",
     "text": [
      "Enter size of list: 5\n"
     ]
    },
    {
     "name": "stdout",
     "output_type": "stream",
     "text": [
      "Elements are:\n"
     ]
    },
    {
     "name": "stdin",
     "output_type": "stream",
     "text": [
      " 1\n",
      " 1\n",
      " 2\n",
      " 4\n",
      " 1\n"
     ]
    },
    {
     "name": "stdout",
     "output_type": "stream",
     "text": [
      "List is: [1, 1, 2, 4, 1]\n"
     ]
    },
    {
     "name": "stdin",
     "output_type": "stream",
     "text": [
      "Enter value for count 1\n"
     ]
    },
    {
     "name": "stdout",
     "output_type": "stream",
     "text": [
      "Count of 1 is: 3\n"
     ]
    }
   ],
   "source": [
    "n = int(input(\"Enter size of list:\"))\n",
    "l12 = []\n",
    "print(\"Elements are:\")\n",
    "for i in range(n):\n",
    "\tx = int(input())\n",
    "\tl12.append(x)\n",
    "print(\"List is:\",l12)\n",
    "oc = int(input(\"Enter value for count\"))\n",
    "count = l12.count(oc)\n",
    "print(f\"Count of {oc} is: {count}\")"
   ]
  },
  {
   "cell_type": "markdown",
   "metadata": {},
   "source": [
    "### 13) WAP to find second largest number in a list."
   ]
  },
  {
   "cell_type": "code",
   "execution_count": 21,
   "metadata": {},
   "outputs": [
    {
     "name": "stdin",
     "output_type": "stream",
     "text": [
      "Enter size of list: 5\n"
     ]
    },
    {
     "name": "stdout",
     "output_type": "stream",
     "text": [
      "Elements are:\n"
     ]
    },
    {
     "name": "stdin",
     "output_type": "stream",
     "text": [
      " 1\n",
      " 2\n",
      " 3\n",
      " 4\n",
      " 5\n"
     ]
    },
    {
     "name": "stdout",
     "output_type": "stream",
     "text": [
      "List is: [1, 2, 3, 4, 5]\n",
      "Second Largest Number of List is: 4\n"
     ]
    }
   ],
   "source": [
    "n = int(input(\"Enter size of list:\"))\n",
    "l13 = []\n",
    "print(\"Elements are:\")\n",
    "for i in range(n):\n",
    "\tx = int(input())\n",
    "\tl13.append(x)\n",
    "print(\"List is:\",l13)\n",
    "\n",
    "sl = sorted(set(l13))[-2]\n",
    "print(\"Second Largest Number of List is:\",sl)"
   ]
  },
  {
   "cell_type": "markdown",
   "metadata": {},
   "source": [
    "### 14) WAP to extract elements with frequency greater than K."
   ]
  },
  {
   "cell_type": "code",
   "execution_count": 26,
   "metadata": {},
   "outputs": [
    {
     "name": "stdin",
     "output_type": "stream",
     "text": [
      "Enter size of list:  6\n"
     ]
    },
    {
     "name": "stdout",
     "output_type": "stream",
     "text": [
      "Elements are:\n"
     ]
    },
    {
     "name": "stdin",
     "output_type": "stream",
     "text": [
      " 1\n",
      " 2\n",
      " 2\n",
      " 3\n",
      " 2\n",
      " 1\n"
     ]
    },
    {
     "name": "stdout",
     "output_type": "stream",
     "text": [
      "List is: [1, 2, 2, 3, 2, 1]\n"
     ]
    },
    {
     "name": "stdin",
     "output_type": "stream",
     "text": [
      "Enter key:  2\n"
     ]
    },
    {
     "name": "stdout",
     "output_type": "stream",
     "text": [
      "\n",
      "Elements appearing more than 2 times:\n",
      "Element 2 appears 3 times\n"
     ]
    }
   ],
   "source": [
    "n = int(input(\"Enter size of list: \"))\n",
    "l14 = []\n",
    "\n",
    "print(\"Elements are:\")\n",
    "for i in range(n):\n",
    "    x = int(input())\n",
    "    l14.append(x)\n",
    "print(\"List is:\", l14)\n",
    "\n",
    "k = int(input(\"Enter key: \"))\n",
    "\n",
    "frequency = {}\n",
    "\n",
    "for element in l14:\n",
    "    frequency[element] = frequency.get(element, 0) + 1\n",
    "\n",
    "print(f\"\\nElements appearing more than {k} times:\")\n",
    "found = False\n",
    "\n",
    "for element, count in frequency.items():\n",
    "    if count > k:\n",
    "        print(f\"Element {element} appears {count} times\")\n",
    "        found = True\n",
    "\n",
    "if not found:\n",
    "    print(f\"No elements appear more than {k} times\")"
   ]
  },
  {
   "cell_type": "markdown",
   "metadata": {},
   "source": [
    "### 15) WAP to create a list of squared numbers from 0 to 9 with and without using List Comprehension."
   ]
  },
  {
   "cell_type": "code",
   "execution_count": 27,
   "metadata": {},
   "outputs": [
    {
     "name": "stdout",
     "output_type": "stream",
     "text": [
      "Squares using for loop: [0, 1, 4, 9, 16, 25, 36, 49, 64, 81]\n"
     ]
    }
   ],
   "source": [
    "# \n",
    "squares = []\n",
    "for i in range(10):    \n",
    "    squares.append(i * i)\n",
    "print(\"Squares using for loop:\", squares)"
   ]
  },
  {
   "cell_type": "code",
   "execution_count": 28,
   "metadata": {},
   "outputs": [
    {
     "name": "stdout",
     "output_type": "stream",
     "text": [
      "Squares using list comprehension: [0, 1, 4, 9, 16, 25, 36, 49, 64, 81]\n"
     ]
    }
   ],
   "source": [
    "# Method 2: Using List Comprehension \n",
    "squares_comp = [i * i for i in range(10)]\n",
    "print(\"Squares using list comprehension:\", squares_comp)"
   ]
  },
  {
   "cell_type": "markdown",
   "metadata": {},
   "source": [
    "### 16) WAP to create a new list (fruit whose name starts with 'b') from the list of fruits given by user."
   ]
  },
  {
   "cell_type": "code",
   "execution_count": 29,
   "metadata": {},
   "outputs": [
    {
     "name": "stdin",
     "output_type": "stream",
     "text": [
      "Enter the number of fruits:  6\n"
     ]
    },
    {
     "name": "stdout",
     "output_type": "stream",
     "text": [
      "Enter the fruits:\n"
     ]
    },
    {
     "name": "stdin",
     "output_type": "stream",
     "text": [
      " apple\n",
      " blueberry\n",
      " banana \n",
      " berry\n",
      " grape\n",
      " mango\n"
     ]
    },
    {
     "name": "stdout",
     "output_type": "stream",
     "text": [
      "\n",
      "Original list: ['apple', 'blueberry', 'banana ', 'berry', 'grape', 'mango']\n",
      "Fruits starting with 'b': ['blueberry', 'banana ', 'berry']\n"
     ]
    }
   ],
   "source": [
    "n = int(input(\"Enter the number of fruits: \"))\n",
    "\n",
    "fruits = []\n",
    "\n",
    "print(\"Enter the fruits:\")\n",
    "for i in range(n):\n",
    "    fruit = input()\n",
    "    fruits.append(fruit)\n",
    "\n",
    "b_fruits = [i for i in fruits if i.lower().startswith('b')]\n",
    "print(\"\\nOriginal list:\", fruits)\n",
    "print(\"Fruits starting with 'b':\", b_fruits)"
   ]
  },
  {
   "cell_type": "markdown",
   "metadata": {},
   "source": [
    "### 17) WAP to create a list of common elements from given two lists."
   ]
  },
  {
   "cell_type": "code",
   "execution_count": 32,
   "metadata": {},
   "outputs": [
    {
     "name": "stdin",
     "output_type": "stream",
     "text": [
      "Enter size of both list: 6\n",
      "Enter elements of First List: 1\n",
      "Enter elements of First List: 2\n",
      "Enter elements of First List: 3\n",
      "Enter elements of First List: 4\n",
      "Enter elements of First List: 5\n",
      "Enter elements of First List: 6\n"
     ]
    },
    {
     "name": "stdout",
     "output_type": "stream",
     "text": [
      "First List is: [1, 2, 3, 4, 5, 6]\n"
     ]
    },
    {
     "name": "stdin",
     "output_type": "stream",
     "text": [
      "Enter elements of Second List: 6\n",
      "Enter elements of Second List: 7\n",
      "Enter elements of Second List: 8\n",
      "Enter elements of Second List: 9\n",
      "Enter elements of Second List: 0\n",
      "Enter elements of Second List: 1\n"
     ]
    },
    {
     "name": "stdout",
     "output_type": "stream",
     "text": [
      "Second List is: [6, 7, 8, 9, 0, 1]\n",
      "Common elements: [1, 6]\n"
     ]
    }
   ],
   "source": [
    "n = int(input(\"Enter size of both list:\"))\n",
    "\n",
    "list1 = []\n",
    "for i in range(1,n+1):\n",
    "\tx = int(input(\"Enter elements of First List:\"))\n",
    "\tlist1.append(x)\n",
    "print(\"First List is:\",list1)\n",
    "\n",
    "list2 = []\n",
    "for i in range(1,n+1):\n",
    "\tx = int(input(\"Enter elements of Second List:\"))\n",
    "\tlist2.append(x)\n",
    "print(\"Second List is:\",list2)\n",
    "\n",
    "common_elements = [element for element in list1 if element in list2]\n",
    "\n",
    "print(\"Common elements:\", common_elements)"
   ]
  }
 ],
 "metadata": {
  "kernelspec": {
   "display_name": "Python 3 (ipykernel)",
   "language": "python",
   "name": "python3"
  },
  "language_info": {
   "codemirror_mode": {
    "name": "ipython",
    "version": 3
   },
   "file_extension": ".py",
   "mimetype": "text/x-python",
   "name": "python",
   "nbconvert_exporter": "python",
   "pygments_lexer": "ipython3",
   "version": "3.12.7"
  }
 },
 "nbformat": 4,
 "nbformat_minor": 4
}
