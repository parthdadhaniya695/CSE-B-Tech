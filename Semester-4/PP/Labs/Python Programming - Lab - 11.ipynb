{
 "cells": [
  {
   "attachments": {},
   "cell_type": "markdown",
   "metadata": {},
   "source": [
    "<a href='https://www.darshan.ac.in/'> <img src='https://www.darshan.ac.in/Content/media/DU_Logo.svg' width=\"250\" height=\"300\"/></a>\n",
    "<pre>\n",
    "<center><b><h1>Python Programming - 2301CS404</b></center>\n",
    "<center><b><h1>Lab - 11</b></center>\n",
    "<center><b><h1>Dadhaniya Parth</b></center>\n",
    "<center><b><h1>24010101621</b></center>\n",
    "<pre>"
   ]
  },
  {
   "cell_type": "markdown",
   "metadata": {},
   "source": [
    "# Modules"
   ]
  },
  {
   "cell_type": "markdown",
   "metadata": {},
   "source": [
    "### 01) WAP to create Calculator module which defines functions like add, sub,mul and div. \n",
    "### Create another .py file that uses the functions available in Calculator module."
   ]
  },
  {
   "cell_type": "code",
   "execution_count": 1,
   "metadata": {},
   "outputs": [
    {
     "name": "stdin",
     "output_type": "stream",
     "text": [
      "Enter first number:  10\n",
      "Enter second number:  2\n"
     ]
    },
    {
     "name": "stdout",
     "output_type": "stream",
     "text": [
      "Addition: 12\n",
      "Subtraction: 8\n",
      "Multiplication: 20\n",
      "Division: 5.0\n"
     ]
    }
   ],
   "source": [
    "import calculator as cal\n",
    "\n",
    "a = int(input(\"Enter first number: \"))\n",
    "b = int(input(\"Enter second number: \"))\n",
    "\n",
    "print(\"Addition:\", cal.add(a, b))\n",
    "print(\"Subtraction:\", cal.sub(a, b))\n",
    "print(\"Multiplication:\", cal.mul(a, b))\n",
    "print(\"Division:\", cal.div(a, b))"
   ]
  },
  {
   "cell_type": "markdown",
   "metadata": {},
   "source": [
    "### 02) WAP to pick a random character from a given String."
   ]
  },
  {
   "cell_type": "code",
   "execution_count": 2,
   "metadata": {},
   "outputs": [
    {
     "name": "stdin",
     "output_type": "stream",
     "text": [
      "Enter a string:  Parth Dadhaniya\n"
     ]
    },
    {
     "name": "stdout",
     "output_type": "stream",
     "text": [
      "Random character: i\n"
     ]
    }
   ],
   "source": [
    "import random\n",
    "\n",
    "string = input(\"Enter a string: \")\n",
    "random_char = random.choice(string)\n",
    "\n",
    "print(\"Random character:\", random_char)"
   ]
  },
  {
   "cell_type": "markdown",
   "metadata": {},
   "source": [
    "### 03) WAP to pick a random element from a given list."
   ]
  },
  {
   "cell_type": "code",
   "execution_count": 4,
   "metadata": {},
   "outputs": [
    {
     "name": "stdin",
     "output_type": "stream",
     "text": [
      "Enter list elements separated by spaces:  apple banana mango grapes\n"
     ]
    },
    {
     "name": "stdout",
     "output_type": "stream",
     "text": [
      "Random element: banana\n"
     ]
    }
   ],
   "source": [
    "import random\n",
    "\n",
    "lst = input(\"Enter list elements separated by spaces: \").split()\n",
    "random_element = random.choice(lst)\n",
    "\n",
    "print(\"Random element:\", random_element)"
   ]
  },
  {
   "cell_type": "markdown",
   "metadata": {},
   "source": [
    "### 04) WAP to roll a dice in such a way that every time you get the same number."
   ]
  },
  {
   "cell_type": "code",
   "execution_count": 7,
   "metadata": {},
   "outputs": [
    {
     "name": "stdin",
     "output_type": "stream",
     "text": [
      "Enter a fixed dice number (1 to 6):  2\n"
     ]
    },
    {
     "name": "stdout",
     "output_type": "stream",
     "text": [
      "Rolled number: 2\n"
     ]
    }
   ],
   "source": [
    "import random\n",
    "\n",
    "fixed_number = int(input(\"Enter a fixed dice number (1 to 6): \"))\n",
    "\n",
    "def roll_dice():\n",
    "    random.seed(42)  \n",
    "    return fixed_number\n",
    "\n",
    "print(\"Rolled number:\", roll_dice())"
   ]
  },
  {
   "cell_type": "markdown",
   "metadata": {},
   "source": [
    "### 05) WAP to generate 3 random integers between 100 and 999 which is divisible by 5."
   ]
  },
  {
   "cell_type": "code",
   "execution_count": 8,
   "metadata": {},
   "outputs": [
    {
     "name": "stdout",
     "output_type": "stream",
     "text": [
      "Random numbers divisible by 5: [915, 240, 130]\n"
     ]
    }
   ],
   "source": [
    "import random\n",
    "\n",
    "random_numbers = [random.randrange(100, 1000, 5) for _ in range(3)]\n",
    "\n",
    "print(\"Random numbers divisible by 5:\", random_numbers)"
   ]
  },
  {
   "cell_type": "markdown",
   "metadata": {},
   "source": [
    "### 06) WAP to generate 100 random lottery tickets and pick two lucky tickets from it and announce them as Winner and Runner up respectively."
   ]
  },
  {
   "cell_type": "code",
   "execution_count": 9,
   "metadata": {},
   "outputs": [
    {
     "name": "stdout",
     "output_type": "stream",
     "text": [
      "Winner Ticket: 8359\n",
      "Runner-up Ticket: 4483\n"
     ]
    }
   ],
   "source": [
    "import random\n",
    "\n",
    "lottery_tickets = random.sample(range(1000, 10000), 100)\n",
    "\n",
    "winner, runner_up = random.sample(lottery_tickets, 2)\n",
    "\n",
    "print(\"Winner Ticket:\", winner)\n",
    "print(\"Runner-up Ticket:\", runner_up)"
   ]
  },
  {
   "cell_type": "markdown",
   "metadata": {},
   "source": [
    "### 07) WAP to print current date and time in Python."
   ]
  },
  {
   "cell_type": "code",
   "execution_count": 11,
   "metadata": {},
   "outputs": [
    {
     "name": "stdout",
     "output_type": "stream",
     "text": [
      "Current Date and Time: 2025-02-15 09:02:55.127242\n"
     ]
    }
   ],
   "source": [
    "from datetime import datetime\n",
    "\n",
    "current_time = datetime.now()\n",
    "\n",
    "print(\"Current Date and Time:\", current_time)"
   ]
  },
  {
   "cell_type": "markdown",
   "metadata": {},
   "source": [
    "### 08) Subtract a week (7 days) from a given date in Python."
   ]
  },
  {
   "cell_type": "code",
   "execution_count": 12,
   "metadata": {},
   "outputs": [
    {
     "name": "stdin",
     "output_type": "stream",
     "text": [
      "Enter a date (YYYY-MM-DD):  2025-02-15\n"
     ]
    },
    {
     "name": "stdout",
     "output_type": "stream",
     "text": [
      "Date after subtracting a week: 2025-02-08\n"
     ]
    }
   ],
   "source": [
    "from datetime import datetime, timedelta\n",
    "\n",
    "given_date = input(\"Enter a date (YYYY-MM-DD): \")\n",
    "date_obj = datetime.strptime(given_date, \"%Y-%m-%d\")\n",
    "\n",
    "new_date = date_obj - timedelta(days=7)\n",
    "\n",
    "print(\"Date after subtracting a week:\", new_date.strftime(\"%Y-%m-%d\"))"
   ]
  },
  {
   "cell_type": "markdown",
   "metadata": {},
   "source": [
    "### 09) WAP to Calculate number of days between two given dates."
   ]
  },
  {
   "cell_type": "code",
   "execution_count": 13,
   "metadata": {},
   "outputs": [
    {
     "name": "stdin",
     "output_type": "stream",
     "text": [
      "Enter first date (YYYY-MM-DD):  2025-02-15\n",
      "Enter second date (YYYY-MM-DD):  2024-02-15\n"
     ]
    },
    {
     "name": "stdout",
     "output_type": "stream",
     "text": [
      "Number of days between the given dates: 366\n"
     ]
    }
   ],
   "source": [
    "from datetime import datetime\n",
    "\n",
    "date1 = input(\"Enter first date (YYYY-MM-DD): \")\n",
    "date2 = input(\"Enter second date (YYYY-MM-DD): \")\n",
    "\n",
    "date_obj1 = datetime.strptime(date1, \"%Y-%m-%d\")\n",
    "date_obj2 = datetime.strptime(date2, \"%Y-%m-%d\")\n",
    "\n",
    "days_difference = abs((date_obj2 - date_obj1).days)\n",
    "\n",
    "print(\"Number of days between the given dates:\", days_difference)"
   ]
  },
  {
   "cell_type": "markdown",
   "metadata": {},
   "source": [
    "### 10) WAP to Find the day of the week of a given date.(i.e. wether it is sunday/monday/tuesday/etc.)"
   ]
  },
  {
   "cell_type": "code",
   "execution_count": 14,
   "metadata": {},
   "outputs": [
    {
     "name": "stdin",
     "output_type": "stream",
     "text": [
      "Enter a date (YYYY-MM-DD):  2025-02-15\n"
     ]
    },
    {
     "name": "stdout",
     "output_type": "stream",
     "text": [
      "Day of the week: Saturday\n"
     ]
    }
   ],
   "source": [
    "from datetime import datetime\n",
    "\n",
    "date_input = input(\"Enter a date (YYYY-MM-DD): \")\n",
    "date_obj = datetime.strptime(date_input, \"%Y-%m-%d\")\n",
    "\n",
    "day_of_week = date_obj.strftime(\"%A\")\n",
    "\n",
    "print(\"Day of the week:\", day_of_week)"
   ]
  },
  {
   "cell_type": "markdown",
   "metadata": {},
   "source": [
    "### 11) WAP to demonstrate the use of date time module."
   ]
  },
  {
   "cell_type": "code",
   "execution_count": 15,
   "metadata": {},
   "outputs": [
    {
     "name": "stdout",
     "output_type": "stream",
     "text": [
      "Current Date and Time: 2025-02-15 09:10:33\n",
      "Current Date: 2025-02-15\n",
      "Current Time: 09:10:33\n",
      "Date after 7 days: 2025-02-22\n",
      "Date 7 days ago: 2025-02-08\n",
      "The day of 2025-02-15 is: Saturday\n"
     ]
    }
   ],
   "source": [
    "from datetime import datetime, timedelta\n",
    "\n",
    "current_datetime = datetime.now()\n",
    "print(\"Current Date and Time:\", current_datetime.strftime(\"%Y-%m-%d %H:%M:%S\"))\n",
    "\n",
    "current_date = current_datetime.date()\n",
    "print(\"Current Date:\", current_date)\n",
    "\n",
    "current_time = current_datetime.time()\n",
    "print(\"Current Time:\", current_time.strftime(\"%H:%M:%S\"))\n",
    "\n",
    "future_date = current_datetime + timedelta(days=7)\n",
    "print(\"Date after 7 days:\", future_date.strftime(\"%Y-%m-%d\"))\n",
    "\n",
    "past_date = current_datetime - timedelta(days=7)\n",
    "print(\"Date 7 days ago:\", past_date.strftime(\"%Y-%m-%d\"))\n",
    "\n",
    "date_input = \"2025-02-15\"\n",
    "date_obj = datetime.strptime(date_input, \"%Y-%m-%d\")\n",
    "print(f\"The day of {date_input} is:\", date_obj.strftime(\"%A\"))"
   ]
  },
  {
   "cell_type": "markdown",
   "metadata": {},
   "source": [
    "### 12) WAP to demonstrate the use of the math module."
   ]
  },
  {
   "cell_type": "code",
   "execution_count": 16,
   "metadata": {},
   "outputs": [
    {
     "name": "stdout",
     "output_type": "stream",
     "text": [
      "Square root of 25 is: 5.0\n",
      "2 raised to the power 5 is: 32.0\n",
      "Factorial of 5 is: 120\n",
      "Sin(30°): 0.49999999999999994\n",
      "Cos(30°): 0.8660254037844387\n",
      "Tan(30°): 0.5773502691896257\n",
      "Natural log of 10 is: 2.302585092994046\n",
      "Log base 10 of 10 is: 1.0\n",
      "Value of Pi: 3.141592653589793\n",
      "Value of Euler's number (e): 2.718281828459045\n"
     ]
    }
   ],
   "source": [
    "import math\n",
    "\n",
    "num = 25\n",
    "print(\"Square root of\", num, \"is:\", math.sqrt(num))\n",
    "\n",
    "base, exponent = 2, 5\n",
    "print(f\"{base} raised to the power {exponent} is:\", math.pow(base, exponent))\n",
    "\n",
    "num = 5\n",
    "print(f\"Factorial of {num} is:\", math.factorial(num))\n",
    "\n",
    "angle = math.radians(30)  \n",
    "print(\"Sin(30°):\", math.sin(angle))\n",
    "print(\"Cos(30°):\", math.cos(angle))\n",
    "print(\"Tan(30°):\", math.tan(angle))\n",
    "\n",
    "num = 10\n",
    "print(\"Natural log of\", num, \"is:\", math.log(num))\n",
    "print(\"Log base 10 of\", num, \"is:\", math.log10(num))\n",
    "\n",
    "print(\"Value of Pi:\", math.pi)\n",
    "print(\"Value of Euler's number (e):\", math.e)"
   ]
  }
 ],
 "metadata": {
  "kernelspec": {
   "display_name": "Python 3 (ipykernel)",
   "language": "python",
   "name": "python3"
  },
  "language_info": {
   "codemirror_mode": {
    "name": "ipython",
    "version": 3
   },
   "file_extension": ".py",
   "mimetype": "text/x-python",
   "name": "python",
   "nbconvert_exporter": "python",
   "pygments_lexer": "ipython3",
   "version": "3.12.7"
  }
 },
 "nbformat": 4,
 "nbformat_minor": 4
}
